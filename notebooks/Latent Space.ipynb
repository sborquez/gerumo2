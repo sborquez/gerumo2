{
 "cells": [
  {
   "cell_type": "code",
   "execution_count": null,
   "id": "03e844cf",
   "metadata": {},
   "outputs": [],
   "source": [
    "import sys\n",
    "sys.path.append('..')"
   ]
  },
  {
   "cell_type": "code",
   "execution_count": null,
   "id": "97cf3394",
   "metadata": {},
   "outputs": [],
   "source": [
    "import os\n",
    "os.environ['TF_FORCE_GPU_ALLOW_GROWTH'] = '1'"
   ]
  },
  {
   "cell_type": "code",
   "execution_count": null,
   "id": "61b68de4",
   "metadata": {},
   "outputs": [],
   "source": [
    "!pip install umap-learn"
   ]
  },
  {
   "cell_type": "code",
   "execution_count": null,
   "id": "576ebbef",
   "metadata": {},
   "outputs": [],
   "source": [
    "import time\n",
    "from gerumo.data.dataset import describe_dataset\n",
    "from gerumo.data.generators import build_generator, BaseGenerator\n",
    "from gerumo.utils.engine import (\n",
    "    setup_cfg, setup_environment, setup_experiment, setup_model,\n",
    "    build_dataset, build_callbacks, build_metrics, build_optimizer, build_loss\n",
    ")\n",
    "from gerumo.models.base import build_model, BaseModel, load_model\n",
    "from gerumo.visualization.metrics import training_history\n",
    "\n",
    "\n",
    "class dotdict(dict):\n",
    "    \"\"\"dot.notation access to dictionary attributes\"\"\"\n",
    "    __getattr__ = dict.get\n",
    "    __setattr__ = dict.__setitem__\n",
    "    __delattr__ = dict.__delitem__\n",
    "args = dotdict()"
   ]
  },
  {
   "cell_type": "code",
   "execution_count": null,
   "id": "6377af0b",
   "metadata": {},
   "outputs": [],
   "source": [
    "args['config_file'] = '/home/ir-riqu1/rds/rds-iris-ip007/ir-riqu1/outputs/best models/20-04-01_onioncnn_ftt_lst_23_epochs_dallcut1000_lr_0.02_f2_sgd_clr_with_momentum_classification_20220420_183240/config.yml'\n",
    "args['opts'] = [\n",
    "    u1/rds/rds-iris-ip007/ir-riqu1/Prod5-parquets/output_tiny_splitted/train_events.parquet',\n",
    "    'DATASETS.TRAIN.TELESCOPES','/home/ir-riqu1/rds/rds-iris-ip007/ir-riqu1/Prod5-parquets/output_tiny_splitted/train_telescopes.parquet',\n",
    "    'DATASETS.VALIDATION.EVENTS','/home/ir-riqu1/rds/rds-iris-ip007/ir-riqu1/Prod5-parquets/output_ALL_cut500_splitted/validation_events.parquet',\n",
    "    'DATASETS.VALIDATION.TELESCOPES','/home/ir-riqu1/rds/rds-iris-ip007/ir-riqu1/Prod5-parquets/output_ALL_cut500_splitted/validation_telescopes.parquet',\n",
    "    'SOLVER.BATCH_SIZE',128\n",
    "]"
   ]
  },
  {
   "cell_type": "code",
   "execution_count": null,
   "id": "3b13d6b4",
   "metadata": {},
   "outputs": [],
   "source": [
    "cfg = setup_cfg(args)\n",
    "output_dir = setup_experiment(cfg)\n",
    "logger = setup_environment(cfg)"
   ]
  },
  {
   "cell_type": "code",
   "execution_count": null,
   "id": "99a0ed3d",
   "metadata": {},
   "outputs": [],
   "source": [
    "train_dataset = build_dataset(cfg, 'train')\n",
    "describe_dataset(train_dataset, logger,\n",
    "                save_to=output_dir / \"train_description.txt\")\n",
    "validation_dataset = build_dataset(cfg, 'validation')\n",
    "describe_dataset(validation_dataset, logger,\n",
    "                save_to=output_dir / \"validation_description.txt\")"
   ]
  },
  {
   "cell_type": "code",
   "execution_count": null,
   "id": "e0786abd",
   "metadata": {},
   "outputs": [],
   "source": [
    "validation_dataset.particle_type.value_counts(normalize=True)"
   ]
  },
  {
   "cell_type": "code",
   "execution_count": null,
   "id": "82920a11",
   "metadata": {},
   "outputs": [],
   "source": [
    "train_generator = build_generator(cfg, train_dataset)\n",
    "validation_generator = build_generator(cfg, validation_dataset)"
   ]
  },
  {
   "cell_type": "code",
   "execution_count": null,
   "id": "559cb057",
   "metadata": {},
   "outputs": [],
   "source": [
    "train_generator.verbose_mode()\n",
    "input_shape = train_generator.get_input_shape()\n",
    "model = build_model(cfg, input_shape)"
   ]
  },
  {
   "cell_type": "code",
   "execution_count": null,
   "id": "538abbae",
   "metadata": {},
   "outputs": [],
   "source": [
    "output_dir = '/home/ir-riqu1/rds/rds-iris-ip007/ir-riqu1/outputs/best models/20-04-01_onioncnn_ftt_lst_23_epochs_dallcut1000_lr_0.02_f2_sgd_clr_with_momentum_classification_20220420_183240'"
   ]
  },
  {
   "cell_type": "code",
   "execution_count": null,
   "id": "7df9df61",
   "metadata": {},
   "outputs": [],
   "source": [
    "loaded_model=load_model(model,validation_generator,output_dir=output_dir)"
   ]
  },
  {
   "cell_type": "code",
   "execution_count": null,
   "id": "f488fd53",
   "metadata": {},
   "outputs": [],
   "source": [
    "callbacks = build_callbacks(cfg)\n",
    "metrics = build_metrics(cfg)\n",
    "optimizer = build_optimizer(cfg)\n",
    "loss = build_loss(cfg)"
   ]
  },
  {
   "cell_type": "code",
   "execution_count": null,
   "id": "702f055b",
   "metadata": {},
   "outputs": [],
   "source": [
    "model = setup_model(\n",
    "    loaded_model, train_generator, optimizer, loss, metrics\n",
    ")"
   ]
  },
  {
   "cell_type": "code",
   "execution_count": null,
   "id": "0e0f509b",
   "metadata": {},
   "outputs": [],
   "source": [
    "train_generator.fit_mode()\n",
    "validation_generator.fit_mode()\n",
    "model.fit_mode()"
   ]
  },
  {
   "cell_type": "code",
   "execution_count": null,
   "id": "99fbab5b",
   "metadata": {},
   "outputs": [],
   "source": [
    "validation_dataset.groupby('particle_type')['event_unique_id'].count()\n"
   ]
  },
  {
   "cell_type": "code",
   "execution_count": null,
   "id": "c88bd985",
   "metadata": {},
   "outputs": [],
   "source": [
    "validation_dataset['hillas_intensity'].plot(kind=\"hist\",logx=True)"
   ]
  },
  {
   "cell_type": "code",
   "execution_count": null,
   "id": "207c5d16",
   "metadata": {},
   "outputs": [],
   "source": [
    "model.evaluate(validation_generator)"
   ]
  },
  {
   "cell_type": "code",
   "execution_count": null,
   "id": "30eec350",
   "metadata": {},
   "outputs": [],
   "source": [
    "import numpy as np\n",
    "x,y= validation_generator[0]\n",
    "y_pred=model(x)\n",
    "y_pred=np.argmax(y_pred, axis = 1)\n",
    "y_pred=np.array(y_pred).reshape(128,1)\n",
    "mask=(y==y_pred)\n",
    "y_bc=~mask*10\n",
    "y_new=y+y_bc\n",
    "for i in range(len(y_new)):\n",
    "    if y_new[i]>2:\n",
    "        y_new[i]=2"
   ]
  },
  {
   "cell_type": "code",
   "execution_count": null,
   "id": "bcf90ae2",
   "metadata": {},
   "outputs": [],
   "source": []
  },
  {
   "cell_type": "code",
   "execution_count": null,
   "id": "95f8620c",
   "metadata": {},
   "outputs": [],
   "source": []
  },
  {
   "cell_type": "markdown",
   "id": "4b53e72c",
   "metadata": {},
   "source": [
    "PCA"
   ]
  },
  {
   "cell_type": "code",
   "execution_count": null,
   "id": "5eff223a",
   "metadata": {},
   "outputs": [],
   "source": [
    "from sklearn.decomposition import PCA\n",
    "from sklearn.preprocessing import StandardScaler\n",
    "import matplotlib.pyplot as plt\n",
    "for L in model._logic_blocks:\n",
    "    pca = PCA(n_components=2)\n",
    "    scaler = StandardScaler()\n",
    "    o = L(x)\n",
    "    scaler.fit(o)\n",
    "    o=scaler.transform(o)   #descomentar para normalizar\n",
    "    pca.fit(o)\n",
    "    o_pca = pca.transform(o)\n",
    "    o_embedded = pca.transform(o)   # descomentar para hacer SOLO pca\n",
    "    plt.figure()\n",
    "    scatter=plt.scatter(o_embedded[:,0],o_embedded[:,1],c=y_new,cmap='brg',label=y_new[:,0], alpha=0.5)\n",
    "    plt.legend(handles=scatter.legend_elements()[0], labels=['proton','gamma','misclassified'])\n",
    "    plt.title('PCA layer:%s' %o.shape[1])\n",
    "    print(o.shape)\n",
    "    print(pca.explained_variance_ratio_.cumsum()[-1])"
   ]
  },
  {
   "cell_type": "markdown",
   "id": "f6dcd1e8",
   "metadata": {},
   "source": [
    "TSNE"
   ]
  },
  {
   "cell_type": "code",
   "execution_count": null,
   "id": "e2e6e595",
   "metadata": {},
   "outputs": [],
   "source": [
    "import matplotlib.pyplot as plt\n",
    "import numpy as np\n",
    "from sklearn.decomposition import PCA\n",
    "from sklearn.manifold import TSNE\n",
    "from sklearn.preprocessing import StandardScaler\n",
    "\n",
    "for L in model._logic_blocks:\n",
    "    pca = PCA(n_components=50)\n",
    "    tsne = TSNE(n_components=2,perplexity=30, learning_rate='auto', init='random',random_state=42, metric='correlation', method='exact',early_exaggeration=100,square_distances=True)\n",
    "    scaler = StandardScaler()\n",
    "    o = L(x)\n",
    "    scaler.fit(o)\n",
    "    o=scaler.transform(o)   #descomentar para normalizar\n",
    "    pca.fit(o)\n",
    "    o_pca = pca.transform(o)\n",
    "    o_embedded = tsne.fit_transform(o)\n",
    "    #o_embedded = pca.transform(o)   # descomentar para hacer SOLO pca\n",
    "    plt.figure()\n",
    "    scatter=plt.scatter(o_embedded[:,0],o_embedded[:,1],c=y_new,cmap='brg',label=y_new[:,0], alpha=0.5)\n",
    "    plt.legend(handles=scatter.legend_elements()[0], labels=['proton','gamma','misclassified'])\n",
    "    plt.title('PCA TSNE layer:%s' %o.shape[1])\n",
    "    print(o.shape)\n",
    "    print(pca.explained_variance_ratio_.cumsum()[-1])"
   ]
  },
  {
   "cell_type": "markdown",
   "id": "c0ec8822",
   "metadata": {},
   "source": [
    "UMAP"
   ]
  },
  {
   "cell_type": "code",
   "execution_count": null,
   "id": "316a7a39",
   "metadata": {},
   "outputs": [],
   "source": [
    "import matplotlib.pyplot as plt\n",
    "import numpy as np\n",
    "from sklearn.decomposition import PCA\n",
    "import umap\n",
    "from sklearn.preprocessing import StandardScaler\n",
    "\n",
    "for L in model._logic_blocks:\n",
    "    reducer = umap.UMAP(metric='correlation',random_state=42)\n",
    "    pca = PCA(n_components=50)\n",
    "    scaler = StandardScaler()\n",
    "    o = L(x)\n",
    "    scaler.fit(o)\n",
    "    o=scaler.transform(o)   #descomentar para normalizar\n",
    "    pca.fit(o)\n",
    "    o_pca = pca.transform(o)\n",
    "    o_embedded = reducer.fit_transform(o,y)\n",
    "    #o_embedded = pca.transform(o)   # descomentar para hacer SOLO pca\n",
    "    plt.figure()\n",
    "    scatter=plt.scatter(o_embedded[:,0],o_embedded[:,1],c=y_new,cmap='brg',label=y_new[:,0], alpha=0.5)\n",
    "    plt.legend(handles=scatter.legend_elements()[0], labels=['proton','gamma','misclassified'])\n",
    "    plt.title('Supervised UMAP layer:%s' %o.shape[1])\n",
    "    print(o.shape)\n",
    "    print(pca.explained_variance_ratio_.cumsum()[-1])"
   ]
  },
  {
   "cell_type": "markdown",
   "id": "471dbe0f",
   "metadata": {},
   "source": [
    "\n",
    "UMAP on flatten layer"
   ]
  },
  {
   "cell_type": "code",
   "execution_count": null,
   "id": "5011d1ac",
   "metadata": {},
   "outputs": [],
   "source": [
    "reducer = umap.UMAP(n_neighbors=20, min_dist=0.0001,n_components=2, metric='correlation',random_state=42)\n",
    "pca = PCA(n_components=100)\n",
    "scaler = StandardScaler()\n",
    "o=model.encoder(x)\n",
    "scaler.fit(o)\n",
    "o=scaler.transform(o)   #descomentar para normalizar\n",
    "pca.fit(o)\n",
    "o_pca = pca.transform(o)\n",
    "o_embedded = reducer.fit_transform(o)\n",
    "#o_embedded = pca.transform(o)   # descomentar para hacer SOLO pca\n",
    "plt.figure()\n",
    "scatter=plt.scatter(o_embedded[:,0],o_embedded[:,1],c=y_new,cmap='brg',label=y_new[:,0], alpha=0.5)\n",
    "plt.legend(handles=scatter.legend_elements()[0], labels=['proton','gamma','misclassified'])\n",
    "plt.title('non-supervised UMAP on flatten layer:%s' %o.shape[1])\n",
    "print(o.shape)\n",
    "print(pca.explained_variance_ratio_.cumsum()[-1])"
   ]
  },
  {
   "cell_type": "markdown",
   "id": "c0678e2a",
   "metadata": {},
   "source": [
    "Supervised UMAP on flatten layer "
   ]
  },
  {
   "cell_type": "code",
   "execution_count": null,
   "id": "db10f9b3",
   "metadata": {},
   "outputs": [],
   "source": [
    "reducer = umap.UMAP(n_neighbors=25, min_dist=0.00001,n_components=2,metric='correlation',random_state=42)\n",
    "pca = PCA(n_components=100)\n",
    "scaler = StandardScaler()\n",
    "o=model.encoder(x)\n",
    "scaler.fit(o)\n",
    "o=scaler.transform(o)   #descomentar para normalizar\n",
    "pca.fit(o)\n",
    "o_pca = pca.transform(o)\n",
    "o_embedded = reducer.fit_transform(o,y)\n",
    "#o_embedded = pca.transform(o)   # descomentar para hacer SOLO pca\n",
    "plt.figure()\n",
    "scatter=plt.scatter(o_embedded[:,0],o_embedded[:,1],c=y_new,cmap='brg',label=y_new[:,0], alpha=0.5)\n",
    "plt.legend(handles=scatter.legend_elements()[0], labels=['proton','gamma','misclassified'])\n",
    "plt.title('Supervised UMAP flatten layer:%s' %o.shape[1])\n",
    "print(o.shape)\n",
    "print(pca.explained_variance_ratio_.cumsum()[-1])"
   ]
  },
  {
   "cell_type": "code",
   "execution_count": null,
   "id": "9b9adbaa",
   "metadata": {},
   "outputs": [],
   "source": []
  },
  {
   "cell_type": "code",
   "execution_count": null,
   "id": "33edcd91",
   "metadata": {},
   "outputs": [],
   "source": []
  },
  {
   "cell_type": "markdown",
   "id": "576ad2cd",
   "metadata": {},
   "source": []
  },
  {
   "cell_type": "code",
   "execution_count": null,
   "id": "c9a11c1a",
   "metadata": {},
   "outputs": [],
   "source": []
  },
  {
   "cell_type": "code",
   "execution_count": null,
   "id": "a8bb80ff",
   "metadata": {},
   "outputs": [],
   "source": []
  },
  {
   "cell_type": "code",
   "execution_count": null,
   "id": "ac3a4a0e",
   "metadata": {},
   "outputs": [],
   "source": []
  }
 ],
 "metadata": {
  "kernelspec": {
   "display_name": "Python 3 (ipykernel)",
   "language": "python",
   "name": "python3"
  },
  "language_info": {
   "codemirror_mode": {
    "name": "ipython",
    "version": 3
   },
   "file_extension": ".py",
   "mimetype": "text/x-python",
   "name": "python",
   "nbconvert_exporter": "python",
   "pygments_lexer": "ipython3",
   "version": "3.9.10"
  }
 },
 "nbformat": 4,
 "nbformat_minor": 5
}
