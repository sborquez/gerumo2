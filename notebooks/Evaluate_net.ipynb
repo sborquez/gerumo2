{
 "cells": [
  {
   "cell_type": "markdown",
   "id": "53a64629",
   "metadata": {},
   "source": [
    "# Neural Network Evaluation \n",
    "\n",
    "Classification task not supported yet \n",
    "\n",
    "See: `Events.add_prediction`, `LoadableModel.categorical_estimation` and last section\n"
   ]
  },
  {
   "cell_type": "code",
   "execution_count": null,
   "id": "78b32a98",
   "metadata": {},
   "outputs": [],
   "source": [
    "import sys\n",
    "sys.path.append('..')"
   ]
  },
  {
   "cell_type": "code",
   "execution_count": null,
   "id": "118a5643-f658-45f7-a47a-e92c88585526",
   "metadata": {},
   "outputs": [],
   "source": [
    "import os\n",
    "os.environ['TF_FORCE_GPU_ALLOW_GROWTH'] = '1'"
   ]
  },
  {
   "cell_type": "code",
   "execution_count": null,
   "id": "f53dc593-585f-4ddf-99ae-341de735fe06",
   "metadata": {},
   "outputs": [],
   "source": [
    "import time\n",
    "from pathlib import Path\n",
    "from tqdm import tqdm\n",
    "\n",
    "import pandas as pd\n",
    "\n",
    "from gerumo.data.dataset import describe_dataset\n",
    "from gerumo.data.generators import build_generator\n",
    "from gerumo.utils.engine import (\n",
    "    setup_cfg, setup_environment, setup_experiment, setup_model, load_model, build_dataset, get_dataset_name\n",
    ")\n",
    "from gerumo.utils.structures import Event, Task\n",
    "from gerumo.models.base import build_model\n",
    "from gerumo.visualization.metrics import training_history\n",
    "\n",
    "\n",
    "class dotdict(dict):\n",
    "    \"\"\"dot.notation access to dictionary attributes\"\"\"\n",
    "    __getattr__ = dict.get\n",
    "    __setattr__ = dict.__setitem__\n",
    "    __delattr__ = dict.__delitem__\n",
    "args = dotdict()"
   ]
  },
  {
   "cell_type": "markdown",
   "id": "123ea728-5132-4903-b51e-9d6336606988",
   "metadata": {},
   "source": [
    "## Select experiment"
   ]
  },
  {
   "cell_type": "code",
   "execution_count": null,
   "id": "1942e2a6-ae8e-411c-a178-f6c8e3725dde",
   "metadata": {},
   "outputs": [],
   "source": [
    "# Select a trained model directory\n",
    "#args['config_file'] = '/home/asuka/projects/gerumo2/tools/output/20220224_101409_cnn_mst_regression_concat_first'\n",
    "args['config_file'] = '/home/asuka/projects/gerumo2/tools/output/20220224_154553_cnn_mst_regression_concat_last'\n",
    "#args['config_file'] = '/home/asuka/projects/gerumo2/tools/output/20220224_045708_cnn_mst_regression_pe_first'\n",
    "#args['config_file'] = '/home/asuka/projects/gerumo2/tools/output/20220223_234309_cnn_mst_regression_pe_last'\n",
    "\n",
    "# Select the best batch\n",
    "args['epoch'] = -1\n",
    "\n",
    "# Use the validation datasets for evaluation\n",
    "args['use_validation'] = True\n",
    "\n",
    "# Select a test datasets (on axis/off axis)\n",
    "args['opts'] = [\n",
    "    #'DATASETS.TEST.EVENTS', ''\n",
    "    #'DATASETS.TEST.TELESCOPES', ''\n",
    "]"
   ]
  },
  {
   "cell_type": "markdown",
   "id": "af8ba8b5-7136-41e6-a8d0-fed3d257eee8",
   "metadata": {},
   "source": [
    "## Setup"
   ]
  },
  {
   "cell_type": "code",
   "execution_count": null,
   "id": "bd1b8be2-bb60-4679-88f5-cf773cdf83bd",
   "metadata": {},
   "outputs": [],
   "source": [
    "# Find the config.yml\n",
    "if os.path.isdir(args.config_file):\n",
    "    args.config_file = os.path.join(args.config_file, 'config.yml')\n",
    "# Load the configurations\n",
    "cfg = setup_cfg(args)\n",
    "output_dir, evaluation_dir = setup_experiment(cfg, training=False)\n",
    "logger = setup_environment(cfg)"
   ]
  },
  {
   "cell_type": "markdown",
   "id": "54b02df3-9f29-4fdb-8542-87d68be8ae2d",
   "metadata": {},
   "source": [
    "## Load evaluation dataset"
   ]
  },
  {
   "cell_type": "code",
   "execution_count": null,
   "id": "fe3c99f7-9c0f-4b93-b852-ff839ac5a3f2",
   "metadata": {},
   "outputs": [],
   "source": [
    "# Setup evaluation datasets directory\n",
    "if args.use_validation:\n",
    "    evaluation_dataset_name = get_dataset_name(cfg, 'validation')\n",
    "else:\n",
    "    evaluation_dataset_name = get_dataset_name(cfg, 'test')\n",
    "evaluation_dir = evaluation_dir / evaluation_dataset_name\n",
    "evaluation_dir.mkdir(exist_ok=True)\n",
    "\n",
    "# Build evaluation dataset\n",
    "evaluation_dataset = build_dataset(cfg, evaluation_dataset_name)\n",
    "describe_dataset(evaluation_dataset, logger, save_to=evaluation_dir / 'description.txt')"
   ]
  },
  {
   "cell_type": "markdown",
   "id": "b31018d8-563b-42a2-8192-cb4cf469ac9d",
   "metadata": {},
   "source": [
    "## Build generator"
   ]
  },
  {
   "cell_type": "code",
   "execution_count": null,
   "id": "f67b5bb8-2241-48c3-8acb-2d3cd1508b2a",
   "metadata": {},
   "outputs": [],
   "source": [
    "evaluation_generator = build_generator(cfg, evaluation_dataset)"
   ]
  },
  {
   "cell_type": "markdown",
   "id": "8c4d63e8-781e-4e59-bae3-2275fa283c0b",
   "metadata": {},
   "source": [
    "## Load model"
   ]
  },
  {
   "cell_type": "code",
   "execution_count": null,
   "id": "6057160b-c459-4016-a964-1ef544f0cdad",
   "metadata": {},
   "outputs": [],
   "source": [
    "#%%capture\n",
    "input_shape = evaluation_generator.get_input_shape()\n",
    "model = build_model(cfg, input_shape)\n",
    "#model.summary()\n",
    "model = load_model(model, evaluation_generator, output_dir, args.epoch)"
   ]
  },
  {
   "cell_type": "markdown",
   "id": "fdad409a-296c-4d9b-89e5-a44117382be1",
   "metadata": {},
   "source": [
    "## Start evaluation"
   ]
  },
  {
   "cell_type": "code",
   "execution_count": null,
   "id": "b6d262bd-92f3-41e7-aa0f-41b285f7675a",
   "metadata": {},
   "outputs": [],
   "source": [
    "events = []\n",
    "for X, event_true in tqdm(evaluation_generator):\n",
    "    y_pred = model(X)\n",
    "    events += Event.add_prediction_list(event_true, y_pred, model.task)\n",
    "evaluation_results = Event.list_to_dataframe(events)\n",
    "evaluation_results.to_csv(evaluation_dir / 'results.csv')"
   ]
  },
  {
   "cell_type": "code",
   "execution_count": null,
   "id": "c18eda15",
   "metadata": {},
   "outputs": [],
   "source": [
    "evaluation_results"
   ]
  },
  {
   "cell_type": "markdown",
   "id": "1480eafb",
   "metadata": {},
   "source": [
    "## Plot results"
   ]
  },
  {
   "cell_type": "code",
   "execution_count": null,
   "id": "9310b004",
   "metadata": {},
   "outputs": [],
   "source": [
    "from gerumo.visualization import metrics"
   ]
  },
  {
   "cell_type": "code",
   "execution_count": null,
   "id": "2be284e9",
   "metadata": {},
   "outputs": [],
   "source": [
    "evaluation_results = pd.read_csv(evaluation_dir / 'results.csv')\n",
    "evaluation_results"
   ]
  },
  {
   "cell_type": "code",
   "execution_count": null,
   "id": "86d32235",
   "metadata": {
    "scrolled": false
   },
   "outputs": [],
   "source": [
    "if Task[cfg.MODEL.TASK] is Task.REGRESSION:\n",
    "    # Target Regression\n",
    "    targets = [t.split('_')[1] for t in cfg.OUTPUT.REGRESSION.TARGETS]\n",
    "    metrics.targets_regression(evaluation_results, targets, save_to=evaluation_dir)\n",
    "    # Resolution\n",
    "    metrics.reconstruction_resolution(evaluation_results, targets, ylim=(0, 2), save_to=evaluation_dir)\n",
    "    # Theta2 distribution\n",
    "    metrics.theta2_distribution(evaluation_results, targets, save_to=evaluation_dir)"
   ]
  },
  {
   "cell_type": "code",
   "execution_count": null,
   "id": "1518f72b",
   "metadata": {},
   "outputs": [],
   "source": [
    "if model.task is Task.CLASSIFICATION:\n",
    "    pass"
   ]
  },
  {
   "cell_type": "code",
   "execution_count": null,
   "id": "cc6a673c",
   "metadata": {},
   "outputs": [],
   "source": []
  }
 ],
 "metadata": {
  "kernelspec": {
   "display_name": "Python 3 (ipykernel)",
   "language": "python",
   "name": "python3"
  },
  "language_info": {
   "codemirror_mode": {
    "name": "ipython",
    "version": 3
   },
   "file_extension": ".py",
   "mimetype": "text/x-python",
   "name": "python",
   "nbconvert_exporter": "python",
   "pygments_lexer": "ipython3",
   "version": "3.9.9"
  }
 },
 "nbformat": 4,
 "nbformat_minor": 5
}
