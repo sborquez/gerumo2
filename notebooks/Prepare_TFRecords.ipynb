{
 "cells": [
  {
   "cell_type": "code",
   "execution_count": null,
   "metadata": {},
   "outputs": [],
   "source": [
    "import sys\n",
    "sys.path.append('..')\n"
   ]
  },
  {
   "cell_type": "code",
   "execution_count": null,
   "metadata": {},
   "outputs": [],
   "source": [
    "import os\n",
    "os.environ['TF_FORCE_GPU_ALLOW_GROWTH'] = 'true'\n",
    "os.environ['CUDA_VISIBLE_DEVICES'] = '0'"
   ]
  },
  {
   "cell_type": "code",
   "execution_count": null,
   "metadata": {},
   "outputs": [],
   "source": [
    "from gerumo.data.generators import build_generator\n",
    "from gerumo.data.dataset import describe_dataset\n",
    "from gerumo.utils.engine import (\n",
    "    setup_cfg, setup_environment, build_dataset\n",
    ")\n",
    "from gerumo.data.tfrecords import generator_to_record\n",
    "\n",
    "class dotdict(dict):\n",
    "    \"\"\"dot.notation access to dictionary attributes\"\"\"\n",
    "    __getattr__ = dict.get\n",
    "    __setattr__ = dict.__setitem__\n",
    "    __delattr__ = dict.__delitem__\n",
    "args = dotdict()"
   ]
  },
  {
   "cell_type": "markdown",
   "metadata": {},
   "source": [
    "## Select configuration"
   ]
  },
  {
   "cell_type": "code",
   "execution_count": null,
   "metadata": {},
   "outputs": [],
   "source": [
    "args['config_file'] = '/home/asuka/projects/gerumo2/config/regression/cnn/cnn_lst.yml'\n",
    "args['output_dir'] = './tfRecords/lst'\n",
    "args['samples_per_file'] = 1000\n",
    "\n",
    "args['opts'] = [\n",
    "    'SOLVER.BATCH_SIZE', 1,\n",
    "    'DATASETS.TRAIN.EVENTS', '/home/asuka/projects/gerumo2/datasets/gamma_sample/splits/validation_events.parquet',\n",
    "    'DATASETS.TRAIN.TELESCOPES', '/home/asuka/projects/gerumo2/datasets/gamma_sample/splits/validation_telescopes.parquet'\n",
    "]"
   ]
  },
  {
   "cell_type": "markdown",
   "metadata": {},
   "source": [
    "## Setup"
   ]
  },
  {
   "cell_type": "code",
   "execution_count": null,
   "metadata": {},
   "outputs": [],
   "source": [
    "cfg = setup_cfg(args)\n",
    "logger = setup_environment(cfg)\n",
    "output_dir = args.output_dir\n",
    "samples_per_file = args.samples_per_file"
   ]
  },
  {
   "cell_type": "markdown",
   "metadata": {},
   "source": [
    "## Load Datasets"
   ]
  },
  {
   "cell_type": "code",
   "execution_count": null,
   "metadata": {},
   "outputs": [],
   "source": [
    "train_dataset = build_dataset(cfg, 'train')\n",
    "validation_dataset = build_dataset(cfg, 'validation')"
   ]
  },
  {
   "cell_type": "markdown",
   "metadata": {},
   "source": [
    "## Build generators"
   ]
  },
  {
   "cell_type": "code",
   "execution_count": null,
   "metadata": {},
   "outputs": [],
   "source": [
    "train_generator = build_generator(cfg, train_dataset)\n",
    "validation_generator = build_generator(cfg, validation_dataset)\n",
    "input_shape = train_generator.get_input_shape()"
   ]
  },
  {
   "cell_type": "code",
   "execution_count": null,
   "metadata": {},
   "outputs": [],
   "source": [
    "train_generator.fit_mode()\n",
    "validation_generator.fit_mode()"
   ]
  },
  {
   "cell_type": "code",
   "execution_count": null,
   "metadata": {},
   "outputs": [],
   "source": [
    "dataset_split = 'train'\n",
    "dataset_generator = train_generator\n",
    "\n",
    "describe_dataset(dataset_generator, logger, save_to=output_dir / f'{dataset_split}_description.txt')\n",
    "generator_to_record(dataset_generator, dataset_split, output_dir, samples_per_file, input_shape)\n"
   ]
  },
  {
   "cell_type": "code",
   "execution_count": null,
   "metadata": {},
   "outputs": [],
   "source": [
    "dataset_split = 'validation'\n",
    "dataset_generator = validation_generator\n",
    "\n",
    "describe_dataset(dataset_generator, logger, save_to=output_dir / f'{dataset_split}_description.txt')\n",
    "generator_to_record(dataset_generator, dataset_split, output_dir, samples_per_file, input_shape)"
   ]
  }
 ],
 "metadata": {
  "kernelspec": {
   "display_name": "Python 3.9.9 ('tf23')",
   "language": "python",
   "name": "python3"
  },
  "language_info": {
   "codemirror_mode": {
    "name": "ipython",
    "version": 3
   },
   "file_extension": ".py",
   "mimetype": "text/x-python",
   "name": "python",
   "nbconvert_exporter": "python",
   "pygments_lexer": "ipython3",
   "version": "3.9.9"
  },
  "vscode": {
   "interpreter": {
    "hash": "ef67963dbb4be9d51d0b8f2d4d59e748d67c8cc5b776d08e4e371277ec333e32"
   }
  }
 },
 "nbformat": 4,
 "nbformat_minor": 4
}
