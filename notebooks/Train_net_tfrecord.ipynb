{
 "cells": [
  {
   "cell_type": "code",
   "execution_count": null,
   "metadata": {},
   "outputs": [],
   "source": [
    "import sys\n",
    "sys.path.append('..')"
   ]
  },
  {
   "cell_type": "code",
   "execution_count": null,
   "metadata": {},
   "outputs": [],
   "source": [
    "import os\n",
    "os.environ['TF_FORCE_GPU_ALLOW_GROWTH'] = '1'\n",
    "os.environ['CUDA_VISIBLE_DEVICES'] = '0'"
   ]
  },
  {
   "cell_type": "code",
   "execution_count": null,
   "metadata": {},
   "outputs": [],
   "source": [
    "import time\n",
    "from gerumo.data.dataset import describe_dataset\n",
    "from gerumo.data.generators import build_generator\n",
    "from gerumo.utils.engine import (\n",
    "    setup_cfg, setup_environment, setup_experiment, setup_model,\n",
    "    build_dataset, build_callbacks, build_metrics, build_optimizer, build_loss\n",
    ")\n",
    "from gerumo.models.base import build_model\n",
    "from gerumo.visualization.metrics import training_history\n",
    "\n",
    "\n",
    "class dotdict(dict):\n",
    "    \"\"\"dot.notation access to dictionary attributes\"\"\"\n",
    "    __getattr__ = dict.get\n",
    "    __setattr__ = dict.__setitem__\n",
    "    __delattr__ = dict.__delitem__\n",
    "args = dotdict()"
   ]
  },
  {
   "cell_type": "markdown",
   "metadata": {},
   "source": [
    "## Select configuration"
   ]
  },
  {
   "cell_type": "code",
   "execution_count": null,
   "metadata": {},
   "outputs": [],
   "source": [
    "args['config_file'] = '/home/asuka/projects/gerumo2/config/regression/cnn/cnn_lst.yml'\n",
    "args['opts'] = [\n",
    "    'SOLVER.BATCH_SIZE', 64,\n",
    "    'GENERATOR.NAME', 'build_tf_record_dataset',\n",
    "    'GENERATOR.KWARGS', [('tfRecords_folder', '/home/asuka/projects/gerumo2/notebooks/tfRecords/lst')],\n",
    "    #'DATASETS.TRAIN.EVENTS', '/home/asuka/projects/gerumo2/datasets/gamma_sample/splits/validation_events.parquet',\n",
    "    #'DATASETS.TRAIN.TELESCOPES', '/home/asuka/projects/gerumo2/datasets/gamma_sample/splits/validation_telescopes.parquet'\n",
    "]"
   ]
  },
  {
   "cell_type": "markdown",
   "metadata": {},
   "source": [
    "## Setup"
   ]
  },
  {
   "cell_type": "code",
   "execution_count": null,
   "metadata": {},
   "outputs": [],
   "source": [
    "cfg = setup_cfg(args)\n",
    "output_dir = setup_experiment(cfg)\n",
    "logger = setup_environment(cfg)"
   ]
  },
  {
   "cell_type": "markdown",
   "metadata": {},
   "source": [
    "## Load Datasets"
   ]
  },
  {
   "cell_type": "code",
   "execution_count": null,
   "metadata": {},
   "outputs": [],
   "source": [
    "train_dataset = build_dataset(cfg, 'train')\n",
    "describe_dataset(train_dataset, logger,\n",
    "                save_to=output_dir / \"train_description.txt\")\n",
    "validation_dataset = build_dataset(cfg, 'validation')\n",
    "describe_dataset(validation_dataset, logger,\n",
    "                save_to=output_dir / \"validation_description.txt\")"
   ]
  },
  {
   "cell_type": "markdown",
   "metadata": {},
   "source": [
    "## Build generators"
   ]
  },
  {
   "cell_type": "code",
   "execution_count": null,
   "metadata": {},
   "outputs": [],
   "source": [
    "train_generator, input_shape, train_size = build_generator(cfg, train_dataset, 'train')\n",
    "validation_generator, _, validation_size = build_generator(cfg, validation_dataset, 'validation')"
   ]
  },
  {
   "cell_type": "markdown",
   "metadata": {},
   "source": [
    "## Build model"
   ]
  },
  {
   "cell_type": "code",
   "execution_count": null,
   "metadata": {},
   "outputs": [],
   "source": [
    "model = build_model(cfg, input_shape)"
   ]
  },
  {
   "cell_type": "markdown",
   "metadata": {},
   "source": [
    "## Build training tools"
   ]
  },
  {
   "cell_type": "code",
   "execution_count": null,
   "metadata": {},
   "outputs": [],
   "source": [
    "callbacks = build_callbacks(cfg)\n",
    "metrics = build_metrics(cfg)\n",
    "optimizer = build_optimizer(cfg, train_size)\n",
    "loss = build_loss(cfg)"
   ]
  },
  {
   "cell_type": "markdown",
   "metadata": {},
   "source": [
    "## Compile model"
   ]
  },
  {
   "cell_type": "code",
   "execution_count": null,
   "metadata": {},
   "outputs": [],
   "source": [
    "model = setup_model(\n",
    "    model, train_generator, optimizer, loss, metrics\n",
    ")"
   ]
  },
  {
   "cell_type": "markdown",
   "metadata": {},
   "source": [
    "## Start training"
   ]
  },
  {
   "cell_type": "code",
   "execution_count": null,
   "metadata": {},
   "outputs": [],
   "source": [
    "model.fit_mode()"
   ]
  },
  {
   "cell_type": "code",
   "execution_count": null,
   "metadata": {},
   "outputs": [],
   "source": [
    "start_time = time.time()\n",
    "history = model.fit(\n",
    "    train_generator,\n",
    "    epochs= cfg.SOLVER.EPOCHS,\n",
    "    steps_per_epoch=train_size,\n",
    "    verbose=1,\n",
    "    validation_data=validation_generator,\n",
    "    validation_steps=validation_size,\n",
    "    callbacks=callbacks,\n",
    "    use_multiprocessing=False,\n",
    "    workers=5,\n",
    "    max_queue_size=20,\n",
    ")\n",
    "training_time = (time.time() - start_time)/60.0"
   ]
  },
  {
   "cell_type": "code",
   "execution_count": null,
   "metadata": {},
   "outputs": [],
   "source": [
    "logger.info(f'Training time: {training_time:.3f} [min]')"
   ]
  },
  {
   "cell_type": "code",
   "execution_count": null,
   "metadata": {},
   "outputs": [],
   "source": [
    "training_history(history, training_time, cfg.EXPERIMENT_NAME)"
   ]
  },
  {
   "cell_type": "code",
   "execution_count": null,
   "metadata": {},
   "outputs": [],
   "source": [
    "training_history(history, training_time, cfg.EXPERIMENT_NAME, ylog=True)"
   ]
  },
  {
   "cell_type": "code",
   "execution_count": null,
   "metadata": {},
   "outputs": [],
   "source": []
  }
 ],
 "metadata": {
  "kernelspec": {
   "display_name": "Python 3.9.9 ('tf23')",
   "language": "python",
   "name": "python3"
  },
  "language_info": {
   "codemirror_mode": {
    "name": "ipython",
    "version": 3
   },
   "file_extension": ".py",
   "mimetype": "text/x-python",
   "name": "python",
   "nbconvert_exporter": "python",
   "pygments_lexer": "ipython3",
   "version": "3.9.9"
  },
  "vscode": {
   "interpreter": {
    "hash": "ef67963dbb4be9d51d0b8f2d4d59e748d67c8cc5b776d08e4e371277ec333e32"
   }
  }
 },
 "nbformat": 4,
 "nbformat_minor": 4
}
