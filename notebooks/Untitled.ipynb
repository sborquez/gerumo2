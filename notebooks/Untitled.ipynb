{
 "cells": [
  {
   "cell_type": "code",
   "execution_count": 1,
   "id": "ff09bd5d-fec0-4c3d-95e3-c960ffcdc726",
   "metadata": {},
   "outputs": [
    {
     "name": "stdout",
     "output_type": "stream",
     "text": [
      "/home/asuka/projects/gerumo2\n"
     ]
    }
   ],
   "source": [
    "cd .."
   ]
  },
  {
   "cell_type": "code",
   "execution_count": 2,
   "id": "d3f404e7-6c61-409d-bf24-5e6571905752",
   "metadata": {},
   "outputs": [],
   "source": [
    "from gerumo.data.generators import MonoGenerator\n",
    "from gerumo.data.dataset import (\n",
    "    load_dataset, aggregate_dataset\n",
    ")\n",
    "from gerumo.utils.structures import (\n",
    "    Telescope, Event, Observations\n",
    ")\n",
    "from gerumo.data.mappers import (\n",
    "    OnevsAllClassification,\n",
    "    SimpleCategorical, SimpleRegression, SimpleSquareImage\n",
    ")"
   ]
  },
  {
   "cell_type": "code",
   "execution_count": 3,
   "id": "7744f10c-a462-49b3-a4c2-3991cd5df90d",
   "metadata": {},
   "outputs": [],
   "source": [
    "dataset = load_dataset(\"/home/asuka/projects/gerumo2/tools/output/splits/train_events.parquet\", \"/home/asuka/projects/gerumo2/tools/output/splits/train_telescopes.parquet\")\n",
    "dataset = aggregate_dataset(dataset)"
   ]
  },
  {
   "cell_type": "code",
   "execution_count": 4,
   "id": "70d4c8c6-f00a-45e3-a532-7cbb9612c64b",
   "metadata": {},
   "outputs": [],
   "source": [
    "#generator = MonoGenerator(dataset, Telescope(\"MST\",\"MST\",\"FlashCam\"), 4, SimpleSquareImage(), SimpleCategorical(target=\"particle_type\", num_classes=2, classes=[\"proton\", \"gamma\"])) \n",
    "#generator = MonoGenerator(dataset, Telescope(\"MST\",\"MST\",\"FlashCam\"), 4, SimpleSquareImage(), OnevsAllClassification(target=\"particle_type\", num_classes=2, classes=[\"gamma\"])) \n",
    "generator = MonoGenerator(dataset, Telescope(\"MST\",\"MST\",\"FlashCam\"), 4, SimpleSquareImage(), SimpleRegression(targets=[\"true_az\", \"true_alt\"], domains=[(-2,2),(-2,2)]))"
   ]
  },
  {
   "cell_type": "code",
   "execution_count": 5,
   "id": "91acc9d4-ea9a-46b1-afc4-d47a70edb12e",
   "metadata": {},
   "outputs": [
    {
     "data": {
      "text/plain": [
       "([None, None, None, None],\n",
       " [Event(id=b64efed63677488d8699, energy=16.89021110534668, fields=true_az: 1.8327210173714275, true_alt: 73.58486543821395),\n",
       "  Event(id=d8527463ffcc4806abfb, energy=42.24282455444336, fields=true_az: -0.10036525637899857, true_alt: 68.88228019466017),\n",
       "  Event(id=624235172b0f48f183d1, energy=0.11472262442111969, fields=true_az: 0.43254989678771266, true_alt: 72.18624760187043),\n",
       "  Event(id=0910a21c0f4a408eae23, energy=0.12454478442668915, fields=true_az: -1.4311469868494655, true_alt: 71.45969988928867)])"
      ]
     },
     "execution_count": 5,
     "metadata": {},
     "output_type": "execute_result"
    }
   ],
   "source": [
    "generator[0]"
   ]
  },
  {
   "cell_type": "code",
   "execution_count": 6,
   "id": "22720b6b-1755-474d-a1a6-c79badb3a4cf",
   "metadata": {},
   "outputs": [
    {
     "data": {
      "text/plain": [
       "array([[ 1.83272102, 73.58486544],\n",
       "       [-0.10036526, 68.88228019],\n",
       "       [ 0.4325499 , 72.1862476 ],\n",
       "       [-1.43114699, 71.45969989]])"
      ]
     },
     "execution_count": 6,
     "metadata": {},
     "output_type": "execute_result"
    }
   ],
   "source": [
    "Event.list_to_tensor(generator[0][1])\n"
   ]
  },
  {
   "cell_type": "code",
   "execution_count": 11,
   "id": "d78b262b-3768-4d11-bdeb-c49e7477a221",
   "metadata": {},
   "outputs": [
    {
     "data": {
      "text/plain": [
       "event_unique_id                                           87376e97a1ca48748cbb\n",
       "event_id                                                                232416\n",
       "obs_id                                                                    1000\n",
       "source                       gamma_20deg_0deg_run1000___cta-prod5-paranal_d...\n",
       "folder                       /mnt/storage-lite/datasets/cta/Prod5_DL1/gamma...\n",
       "observers_x                                                                  5\n",
       "true_core_x                                                       -1012.276123\n",
       "true_core_y                                                        -101.281761\n",
       "true_h_first_int                                                  18085.632812\n",
       "true_alt                                                             68.889691\n",
       "true_az                                                               0.702111\n",
       "true_energy                                                           0.619032\n",
       "particle_type                                                            gamma\n",
       "observers_y                                                                  5\n",
       "observation_idx                                                              2\n",
       "tel_id                                                                     155\n",
       "name                                                                     ASTRI\n",
       "type                                                                       SST\n",
       "camera_type                                                               CHEC\n",
       "pos_x                                                                   -970.0\n",
       "pos_y                                                                     -0.0\n",
       "pos_z                                                                     30.0\n",
       "hillas_intensity                                                    147.277337\n",
       "hillas_x                                                             -0.034172\n",
       "hillas_y                                                              0.036626\n",
       "hillas_r                                                              0.050092\n",
       "hillas_phi                                                          133.015094\n",
       "hillas_length                                                         0.008257\n",
       "hillas_length_uncertainty                                             0.000491\n",
       "hillas_width                                                          0.003148\n",
       "hillas_width_uncertainty                                              0.000203\n",
       "hillas_psi                                                           72.084134\n",
       "hillas_skewness                                                       0.791048\n",
       "hillas_kurtosis                                                       3.080345\n",
       "true_log10_energy                                                    -0.208287\n",
       "hdf5_filepath                /mnt/storage-lite/datasets/cta/Prod5_DL1/gamma...\n",
       "Name: 4, dtype: object"
      ]
     },
     "execution_count": 11,
     "metadata": {},
     "output_type": "execute_result"
    }
   ],
   "source": [
    "for i, r in generator.dataset.iloc[[1,2,3]].iterrows():\n",
    "    pass\n",
    "r"
   ]
  }
 ],
 "metadata": {
  "kernelspec": {
   "display_name": "Python 3 (ipykernel)",
   "language": "python",
   "name": "python3"
  },
  "language_info": {
   "codemirror_mode": {
    "name": "ipython",
    "version": 3
   },
   "file_extension": ".py",
   "mimetype": "text/x-python",
   "name": "python",
   "nbconvert_exporter": "python",
   "pygments_lexer": "ipython3",
   "version": "3.9.7"
  }
 },
 "nbformat": 4,
 "nbformat_minor": 5
}
