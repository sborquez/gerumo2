{
 "cells": [
  {
   "cell_type": "code",
   "execution_count": null,
   "id": "5857c044-f264-43bc-b51a-8fc03d3a268e",
   "metadata": {},
   "outputs": [],
   "source": [
    "import sys\n",
    "sys.path.append('..')"
   ]
  },
  {
   "cell_type": "code",
   "execution_count": null,
   "id": "354fc2ad-94d2-4c7c-9ae7-cc0ddd925904",
   "metadata": {},
   "outputs": [],
   "source": [
    "import tables\n",
    "import numpy as np\n",
    "import pandas as pd\n",
    "from os import path\n",
    "import matplotlib.pyplot as plt\n",
    "from gerumo.visualization.explore import plot_telescope_geometry, plot_observation_scatter, plot_array\n",
    "%matplotlib inline"
   ]
  },
  {
   "cell_type": "code",
   "execution_count": null,
   "id": "1e97381f",
   "metadata": {},
   "outputs": [],
   "source": [
    "hdf5_filepath = \"/home/asuka/Desktop/gamma_20deg_0deg_run1000___cta-prod5-paranal_desert-2147m-Paranal-dark_cone10_merged.DL1.h5\""
   ]
  },
  {
   "cell_type": "code",
   "execution_count": null,
   "id": "47a32f26",
   "metadata": {},
   "outputs": [],
   "source": [
    "hdf5_file = tables.open_file(hdf5_filepath, \"r\")\n",
    "source = path.basename(hdf5_filepath)\n",
    "folder = path.dirname(hdf5_filepath)"
   ]
  },
  {
   "cell_type": "markdown",
   "id": "c9f4a122-3753-4ea2-b588-c304fb71ba1a",
   "metadata": {},
   "source": [
    "# Layout"
   ]
  },
  {
   "cell_type": "code",
   "execution_count": null,
   "id": "88f44770-51b9-4675-a9e3-e1e00482ac23",
   "metadata": {},
   "outputs": [],
   "source": [
    "array_layout = \"configuration/instrument/subarray/layout\"\n",
    "hdf5_file.root[array_layout]"
   ]
  },
  {
   "cell_type": "code",
   "execution_count": null,
   "id": "32c8fb57-86d5-4be6-ad97-bd4e5ba032b7",
   "metadata": {},
   "outputs": [],
   "source": [
    "plot_array(hdf5_file, layout=array_layout)"
   ]
  },
  {
   "cell_type": "markdown",
   "id": "d7651777-2c40-4baf-9909-110410c89b1f",
   "metadata": {},
   "source": [
    "# Geometries"
   ]
  },
  {
   "cell_type": "code",
   "execution_count": null,
   "id": "9d7f69cd",
   "metadata": {},
   "outputs": [],
   "source": [
    "LST_geom='/configuration/instrument/telescope/camera/geometry_LSTCam'\n",
    "CHEC_geom='/configuration/instrument/telescope/camera/geometry_CHEC'\n",
    "Flash_geom='/configuration/instrument/telescope/camera/geometry_FlashCam'\n",
    "Nectar_geom='/configuration/instrument/telescope/camera/geometry_NectarCam'\n",
    "cameras=[LST_geom, CHEC_geom, Flash_geom] #, Nectar_geom]\n",
    "cameras_names=['LST','SSTC','MSTF'] # ,'MSTN']\n",
    "hdf5_file.root[cameras[0]]"
   ]
  },
  {
   "cell_type": "code",
   "execution_count": null,
   "id": "911eef00-0782-42c4-83f2-8f752fac85be",
   "metadata": {},
   "outputs": [],
   "source": [
    "for name, camera in zip(cameras_names, cameras):\n",
    "    camera_table=hdf5_file.root[camera]\n",
    "    pixels = np.array([[p['pix_x'],p['pix_y']] for p in camera_table]).T\n",
    "    num_pixels=pixels.shape[1]\n",
    "    plot_telescope_geometry(name, pixels, num_pixels)\n",
    "    plt.show()"
   ]
  },
  {
   "cell_type": "markdown",
   "id": "5727f2c1-b676-4241-bfa3-5cca2736a069",
   "metadata": {},
   "source": [
    "# Images"
   ]
  },
  {
   "cell_type": "code",
   "execution_count": null,
   "id": "7322b3ee",
   "metadata": {},
   "outputs": [],
   "source": [
    "camera='/configuration/instrument/telescope/camera'\n",
    "images= '/dl1/event/telescope/images/tel_001'\n",
    "hdf5_file.root[images]"
   ]
  },
  {
   "cell_type": "code",
   "execution_count": null,
   "id": "2a7b0528-153f-4ccb-bb5c-86b84644d7e3",
   "metadata": {},
   "outputs": [],
   "source": [
    "camera_table=hdf5_file.root[LST_geom]\n",
    "pix_pos = np.array([[p['pix_x'],p['pix_y']] for p in camera_table]).T"
   ]
  },
  {
   "cell_type": "code",
   "execution_count": null,
   "id": "a6fb9687",
   "metadata": {},
   "outputs": [],
   "source": [
    "idx = 510\n",
    "\n",
    "charge=hdf5_file.root[images][idx]['image']\n",
    "mask=hdf5_file.root[images][idx]['image_mask']\n",
    "peak_pos=hdf5_file.root[images][idx]['peak_time']\n",
    "event_id=hdf5_file.root[images][idx]['event_id']\n",
    "\n",
    "\n",
    "plot_observation_scatter(charge, peak_pos, mask, pix_pos, 'LST', event_id)"
   ]
  },
  {
   "cell_type": "markdown",
   "id": "9892cd8d-e8aa-4757-b4ba-ffb225ecc9e5",
   "metadata": {},
   "source": [
    "# Events"
   ]
  },
  {
   "cell_type": "code",
   "execution_count": null,
   "id": "330d1568-d60a-46c6-94dd-80d274f54534",
   "metadata": {},
   "outputs": [],
   "source": [
    "event_info_table = \"simulation/event/subarray/shower\"\n",
    "event_triggers_table = \"/dl1/event/subarray/trigger\""
   ]
  },
  {
   "cell_type": "code",
   "execution_count": null,
   "id": "6ffe8670-d20a-44bf-9c4d-2bb72868d74a",
   "metadata": {},
   "outputs": [],
   "source": [
    "for i, event in enumerate(hdf5_file.root[event_info_table]):\n",
    "    if i > 2: break\n",
    "    print(i, *zip(event.table.colnames, event.fetch_all_fields()), sep=\"\\n\\t\")"
   ]
  },
  {
   "cell_type": "code",
   "execution_count": null,
   "id": "31e5b7ef",
   "metadata": {},
   "outputs": [],
   "source": [
    "counters = np.zeros(180)\n",
    "for i, event_triggers in enumerate(hdf5_file.root[event_triggers_table]):\n",
    "    if i > 2: break\n",
    "    print(i, *zip(event_triggers.table.colnames, event_triggers.fetch_all_fields()), sep=\"\\n\\t\")\n",
    "    counters[event_triggers.fetch_all_fields()[3]] += 1"
   ]
  },
  {
   "cell_type": "markdown",
   "id": "444628ed-fddd-4b10-b5d8-b0660d85e0d9",
   "metadata": {},
   "source": [
    "# Telescopes"
   ]
  },
  {
   "cell_type": "code",
   "execution_count": null,
   "id": "76ba22ce-0848-4366-a610-ce4e8e7063d9",
   "metadata": {},
   "outputs": [],
   "source": [
    "telescope_parameters = \"/dl1/event/telescope/parameters/tel_001\"  # Hillas parameters\n",
    "telescope_images = \"/dl1/event/telescope/images/tel_{0}\"          # Time peaks and charge images"
   ]
  },
  {
   "cell_type": "code",
   "execution_count": null,
   "id": "4f1b6e54-17e5-47c2-842c-8e0e93a322cd",
   "metadata": {
    "tags": []
   },
   "outputs": [],
   "source": [
    "flag = True\n",
    "\n",
    "for i, telescope in enumerate(hdf5_file.root[telescope_parameters]): # + \"/tel_001\"]):\n",
    "    if i > 3: break\n",
    "    print(i, *zip(telescope.table.colnames, telescope.fetch_all_fields()), sep=\"\\n\\t\")\n",
    "    "
   ]
  },
  {
   "cell_type": "code",
   "execution_count": null,
   "id": "2c7347f1-f96e-4800-ae40-68a300b5ba93",
   "metadata": {},
   "outputs": [],
   "source": []
  }
 ],
 "metadata": {
  "kernelspec": {
   "display_name": "Python 3 (ipykernel)",
   "language": "python",
   "name": "python3"
  },
  "language_info": {
   "codemirror_mode": {
    "name": "ipython",
    "version": 3
   },
   "file_extension": ".py",
   "mimetype": "text/x-python",
   "name": "python",
   "nbconvert_exporter": "python",
   "pygments_lexer": "ipython3",
   "version": "3.9.7"
  }
 },
 "nbformat": 4,
 "nbformat_minor": 5
}
