{
 "cells": [
  {
   "cell_type": "code",
   "execution_count": null,
   "id": "ff09bd5d-fec0-4c3d-95e3-c960ffcdc726",
   "metadata": {},
   "outputs": [],
   "source": [
    "import sys\n",
    "sys.path.append('..')"
   ]
  },
  {
   "cell_type": "code",
   "execution_count": null,
   "id": "d3f404e7-6c61-409d-bf24-5e6571905752",
   "metadata": {},
   "outputs": [],
   "source": [
    "from gerumo.data.generators import build_generator, MonoGenerator\n",
    "from gerumo.data.dataset import (\n",
    "    load_dataset, aggregate_dataset\n",
    ")\n",
    "from gerumo.data.constants import (\n",
    "    TELESCOPES\n",
    ")\n",
    "from gerumo.utils.structures import (\n",
    "    Telescope, Task, ReconstructionMode\n",
    ")\n",
    "from gerumo.data.mappers import (\n",
    "    SimpleRegression, SimpleSquareImage\n",
    ")\n",
    "from gerumo.config.config import get_cfg\n",
    "from gerumo.models.base import build_model\n",
    "%matplotlib inline"
   ]
  },
  {
   "cell_type": "code",
   "execution_count": null,
   "id": "7744f10c-a462-49b3-a4c2-3991cd5df90d",
   "metadata": {},
   "outputs": [],
   "source": [
    "dataset = load_dataset(\"/home/asuka/projects/gerumo2/tools/output/splits/train_events.parquet\", \"/home/asuka/projects/gerumo2/tools/output/splits/train_telescopes.parquet\")\n",
    "dataset = aggregate_dataset(dataset)"
   ]
  },
  {
   "cell_type": "markdown",
   "id": "ab90e3f3",
   "metadata": {},
   "source": [
    "# Mono Reconstruction"
   ]
  },
  {
   "cell_type": "code",
   "execution_count": null,
   "id": "4daea598",
   "metadata": {},
   "outputs": [],
   "source": [
    "generator = MonoGenerator(\n",
    "    dataset, Telescope(\"MST\",\"MST\",\"FlashCam\"), 4,\n",
    "    #SimpleSquareImage(image_channels=[\"image\", \"image_mask\"], telescope_features=[], mode=ReconstructionMode.SINGLE),\n",
    "    SimpleSquareImage(image_channels=[\"image\", \"image_mask\"], telescope_features=[\"hillas_phi\", \"hillas_psi\"], mode=ReconstructionMode.SINGLE),\n",
    "    SimpleRegression(targets=[\"true_az\", \"true_alt\"], domains=[(-2,2),(-2,2)]))"
   ]
  },
  {
   "cell_type": "code",
   "execution_count": null,
   "id": "27f59266",
   "metadata": {},
   "outputs": [],
   "source": [
    "input_shape=generator.get_input_shape()\n",
    "input_shape"
   ]
  },
  {
   "cell_type": "markdown",
   "id": "8dea376f-62f6-479a-b115-e1fc136d61ee",
   "metadata": {},
   "source": [
    "## Preprocessing Input"
   ]
  },
  {
   "cell_type": "code",
   "execution_count": null,
   "id": "70d4c8c6-f00a-45e3-a532-7cbb9612c64b",
   "metadata": {},
   "outputs": [],
   "source": [
    "%%capture\n",
    "from gerumo.models.base import BaseModel\n",
    "model = BaseModel(\n",
    "    input_shape=input_shape, mode=ReconstructionMode.SINGLE,\n",
    "    task=Task.REGRESSION, telescopes=[TELESCOPES[\"LST\"]]\n",
    ")"
   ]
  },
  {
   "cell_type": "code",
   "execution_count": null,
   "id": "f4af253e",
   "metadata": {},
   "outputs": [],
   "source": [
    "X = model.preprocess_input(generator[0][0])\n",
    "X[0].shape, X[1].shape"
   ]
  },
  {
   "cell_type": "markdown",
   "id": "8c45d7e5",
   "metadata": {},
   "source": [
    "## Regression Model"
   ]
  },
  {
   "cell_type": "code",
   "execution_count": null,
   "id": "017080a3",
   "metadata": {},
   "outputs": [],
   "source": [
    "cfg = get_cfg()\n",
    "cfg.merge_from_file(\"config/cnn_regression.yml\")\n",
    "model = build_model(cfg, input_shape)"
   ]
  },
  {
   "cell_type": "code",
   "execution_count": null,
   "id": "2a97c327",
   "metadata": {},
   "outputs": [],
   "source": []
  },
  {
   "cell_type": "code",
   "execution_count": null,
   "id": "9b97a557",
   "metadata": {},
   "outputs": [],
   "source": [
    "model(generator[0][0])"
   ]
  },
  {
   "cell_type": "code",
   "execution_count": null,
   "id": "98f173cb",
   "metadata": {},
   "outputs": [],
   "source": []
  }
 ],
 "metadata": {
  "kernelspec": {
   "display_name": "Python 3 (ipykernel)",
   "language": "python",
   "name": "python3"
  },
  "language_info": {
   "codemirror_mode": {
    "name": "ipython",
    "version": 3
   },
   "file_extension": ".py",
   "mimetype": "text/x-python",
   "name": "python",
   "nbconvert_exporter": "python",
   "pygments_lexer": "ipython3",
   "version": "3.9.7"
  }
 },
 "nbformat": 4,
 "nbformat_minor": 5
}
