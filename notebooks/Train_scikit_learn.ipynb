{
 "cells": [
  {
   "cell_type": "code",
   "execution_count": null,
   "metadata": {},
   "outputs": [],
   "source": [
    "import sys\n",
    "sys.path.append('..')"
   ]
  },
  {
   "cell_type": "code",
   "execution_count": null,
   "metadata": {},
   "outputs": [],
   "source": [
    "import os\n",
    "import time\n",
    "import pickle\n",
    "\n",
    "from gerumo.data.dataset import describe_dataset\n",
    "from gerumo.data.generators import build_generator\n",
    "from gerumo.utils.engine import (\n",
    "    setup_cfg, setup_environment, setup_experiment, build_dataset, build_metrics\n",
    ")\n",
    "from gerumo.models.base import build_model\n",
    "\n",
    "\n",
    "class dotdict(dict):\n",
    "    \"\"\"dot.notation access to dictionary attributes\"\"\"\n",
    "    __getattr__ = dict.get\n",
    "    __setattr__ = dict.__setitem__\n",
    "    __delattr__ = dict.__delitem__\n",
    "args = dotdict()"
   ]
  },
  {
   "cell_type": "markdown",
   "metadata": {},
   "source": [
    "## Select configuration"
   ]
  },
  {
   "cell_type": "code",
   "execution_count": null,
   "metadata": {},
   "outputs": [],
   "source": [
    "#args['config_file'] = '/home/asuka/projects/gerumo2/config/rf_regression.yml'\n",
    "args['config_file'] = '/home/asuka/projects/gerumo2/config/rf_classification2.yml'\n",
    "args['opts'] = []"
   ]
  },
  {
   "cell_type": "markdown",
   "metadata": {},
   "source": [
    "## Setup"
   ]
  },
  {
   "cell_type": "code",
   "execution_count": null,
   "metadata": {},
   "outputs": [],
   "source": [
    "cfg = setup_cfg(args)\n",
    "output_dir = setup_experiment(cfg)\n",
    "logger = setup_environment(cfg)"
   ]
  },
  {
   "cell_type": "markdown",
   "metadata": {},
   "source": [
    "## Load Datasets"
   ]
  },
  {
   "cell_type": "code",
   "execution_count": null,
   "metadata": {},
   "outputs": [],
   "source": [
    "train_dataset = build_dataset(cfg, 'train')\n",
    "describe_dataset(train_dataset, logger,\n",
    "                save_to=output_dir / \"train_description.txt\")\n",
    "validation_dataset = build_dataset(cfg, 'validation')\n",
    "describe_dataset(validation_dataset, logger,\n",
    "                save_to=output_dir / \"validation_description.txt\")"
   ]
  },
  {
   "cell_type": "markdown",
   "metadata": {},
   "source": [
    "## Build generators"
   ]
  },
  {
   "cell_type": "code",
   "execution_count": null,
   "metadata": {},
   "outputs": [],
   "source": [
    "train_generator = build_generator(cfg, train_dataset)\n",
    "validation_generator = build_generator(cfg, validation_dataset)"
   ]
  },
  {
   "cell_type": "code",
   "execution_count": null,
   "metadata": {},
   "outputs": [],
   "source": [
    "print('Training batches:', len(train_generator))\n",
    "print('Validation batches:', len(validation_generator))"
   ]
  },
  {
   "cell_type": "markdown",
   "metadata": {},
   "source": [
    "## Build model"
   ]
  },
  {
   "cell_type": "code",
   "execution_count": null,
   "metadata": {},
   "outputs": [],
   "source": [
    "input_shape = train_generator.get_input_shape()\n",
    "model = build_model(cfg, input_shape)"
   ]
  },
  {
   "cell_type": "markdown",
   "metadata": {},
   "source": [
    "## Training model"
   ]
  },
  {
   "cell_type": "code",
   "execution_count": null,
   "metadata": {},
   "outputs": [],
   "source": [
    "inputs_batch, outputs_batch = train_generator.get_batch()\n",
    "start_time = time.time()\n",
    "model.fit(inputs_batch, outputs_batch)\n",
    "training_time = (time.time() - start_time)/60.0"
   ]
  },
  {
   "cell_type": "code",
   "execution_count": null,
   "metadata": {},
   "outputs": [],
   "source": [
    "logger.info(f\"Training time: {training_time:.3f} [min]\")"
   ]
  },
  {
   "cell_type": "markdown",
   "metadata": {},
   "source": [
    "## Validation"
   ]
  },
  {
   "cell_type": "code",
   "execution_count": null,
   "metadata": {},
   "outputs": [],
   "source": [
    "from gerumo.utils.structures import Event\n",
    "metrics = build_metrics(cfg, standalone=True)"
   ]
  },
  {
   "cell_type": "code",
   "execution_count": null,
   "metadata": {},
   "outputs": [],
   "source": [
    "start_time = time.time()\n",
    "inputs_batch, outputs_batch = validation_generator.get_batch()\n",
    "predicted_batch = model(inputs_batch)\n",
    "validation_time  = (time.time() - start_time)/60.0"
   ]
  },
  {
   "cell_type": "code",
   "execution_count": null,
   "metadata": {},
   "outputs": [],
   "source": [
    "logger.info(f\"Validation time: {validation_time:.3f} [min]\")\n",
    "for name, metric in metrics.items():\n",
    "    logger.info(f\"{name}:\\t{metric(predicted_batch, Event.list_to_tensor(outputs_batch)):.2f}\")"
   ]
  },
  {
   "cell_type": "markdown",
   "metadata": {},
   "source": [
    "## Save Model"
   ]
  },
  {
   "cell_type": "code",
   "execution_count": null,
   "metadata": {},
   "outputs": [],
   "source": [
    "with open(os.path.join(output_dir, 'model.pkl'), 'wb') as f:\n",
    "    pickle.dump(model, f)\n",
    "logger.info(\"Saved 'model.pkl'\")"
   ]
  }
 ],
 "metadata": {
  "interpreter": {
   "hash": "23622b7acbfecceb6c580e6612f57b6025739422d4e7cd9ec8a6770dedfbf18a"
  },
  "kernelspec": {
   "display_name": "Python 3 (ipykernel)",
   "language": "python",
   "name": "python3"
  },
  "language_info": {
   "codemirror_mode": {
    "name": "ipython",
    "version": 3
   },
   "file_extension": ".py",
   "mimetype": "text/x-python",
   "name": "python",
   "nbconvert_exporter": "python",
   "pygments_lexer": "ipython3",
   "version": "3.9.9"
  }
 },
 "nbformat": 4,
 "nbformat_minor": 2
}
