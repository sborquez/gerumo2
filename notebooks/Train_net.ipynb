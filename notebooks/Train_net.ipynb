{
 "cells": [
  {
   "cell_type": "code",
   "execution_count": 1,
   "metadata": {},
   "outputs": [],
   "source": [
    "import sys\n",
    "sys.path.append('..')"
   ]
  },
  {
   "cell_type": "code",
   "execution_count": 2,
   "metadata": {},
   "outputs": [],
   "source": [
    "import time\n",
    "from gerumo.data.dataset import describe_dataset\n",
    "from gerumo.data.generators import build_generator\n",
    "from gerumo.utils.engine import (\n",
    "    setup_cfg, setup_environment, setup_experiment, setup_model,\n",
    "    build_dataset, build_callbacks, build_metrics, build_optimizer, build_loss\n",
    ")\n",
    "from gerumo.models.base import build_model\n",
    "from gerumo.visualization.metrics import training_history\n",
    "\n",
    "\n",
    "class dotdict(dict):\n",
    "    \"\"\"dot.notation access to dictionary attributes\"\"\"\n",
    "    __getattr__ = dict.get\n",
    "    __setattr__ = dict.__setitem__\n",
    "    __delattr__ = dict.__delitem__\n",
    "args = dotdict()"
   ]
  },
  {
   "cell_type": "markdown",
   "metadata": {},
   "source": [
    "## Select configuration"
   ]
  },
  {
   "cell_type": "code",
   "execution_count": 3,
   "metadata": {},
   "outputs": [],
   "source": [
    "args['config_file'] = '/home/ir-riqu1/gerumo2/config/cnn_classification.yml'\n",
    "args['opts'] = []"
   ]
  },
  {
   "cell_type": "markdown",
   "metadata": {},
   "source": [
    "## Setup"
   ]
  },
  {
   "cell_type": "code",
   "execution_count": 4,
   "metadata": {},
   "outputs": [],
   "source": [
    "cfg = setup_cfg(args)\n",
    "output_dir = setup_experiment(cfg)\n",
    "logger = setup_environment(cfg)"
   ]
  },
  {
   "cell_type": "markdown",
   "metadata": {},
   "source": [
    "## Load Datasets"
   ]
  },
  {
   "cell_type": "code",
   "execution_count": 5,
   "metadata": {},
   "outputs": [
    {
     "name": "stdout",
     "output_type": "stream",
     "text": [
      "[GERUMO]: INFO     files: 20\n",
      "[GERUMO]: INFO     events: 199359\n",
      "[GERUMO]: INFO     observations: 1244338\n",
      "[GERUMO]: INFO     obsevation by telescopes\n",
      "[GERUMO]: INFO     NectarCam    427298\n",
      "FlashCam     387214\n",
      "CHEC         373163\n",
      "LSTCam        56663\n",
      "Name: camera_type, dtype: int64\n",
      "[GERUMO]: INFO     files: 20\n",
      "[GERUMO]: INFO     events: 199359\n",
      "[GERUMO]: INFO     observations: 1244338\n",
      "[GERUMO]: INFO     obsevation by telescopes\n",
      "[GERUMO]: INFO     NectarCam    427298\n",
      "FlashCam     387214\n",
      "CHEC         373163\n",
      "LSTCam        56663\n",
      "Name: camera_type, dtype: int64\n"
     ]
    }
   ],
   "source": [
    "train_dataset = build_dataset(cfg, 'train')\n",
    "describe_dataset(train_dataset, logger,\n",
    "                save_to=output_dir / \"train_description.txt\")\n",
    "validation_dataset = build_dataset(cfg, 'validation')\n",
    "describe_dataset(validation_dataset, logger,\n",
    "                save_to=output_dir / \"validation_description.txt\")"
   ]
  },
  {
   "cell_type": "markdown",
   "metadata": {},
   "source": [
    "## Build generators"
   ]
  },
  {
   "cell_type": "code",
   "execution_count": 6,
   "metadata": {},
   "outputs": [],
   "source": [
    "train_generator = build_generator(cfg, train_dataset)\n",
    "validation_generator = build_generator(cfg, validation_dataset)"
   ]
  },
  {
   "cell_type": "markdown",
   "metadata": {},
   "source": [
    "## Build model"
   ]
  },
  {
   "cell_type": "code",
   "execution_count": 9,
   "metadata": {},
   "outputs": [],
   "source": [
    "input_shape = train_generator.get_input_shape()\n",
    "model = build_model(cfg, input_shape)"
   ]
  },
  {
   "cell_type": "code",
   "execution_count": null,
   "metadata": {},
   "outputs": [],
   "source": []
  },
  {
   "cell_type": "markdown",
   "metadata": {},
   "source": [
    "## Build training tools"
   ]
  },
  {
   "cell_type": "code",
   "execution_count": 11,
   "metadata": {},
   "outputs": [
    {
     "name": "stderr",
     "output_type": "stream",
     "text": [
      "2021-12-31 20:57:31.549791: I tensorflow/core/profiler/lib/profiler_session.cc:131] Profiler session initializing.\n",
      "2021-12-31 20:57:31.549811: I tensorflow/core/profiler/lib/profiler_session.cc:146] Profiler session started.\n",
      "2021-12-31 20:57:31.899434: I tensorflow/core/profiler/lib/profiler_session.cc:164] Profiler session tear down.\n"
     ]
    }
   ],
   "source": [
    "callbacks = build_callbacks(cfg)\n",
    "metrics = build_metrics(cfg)\n",
    "optimizer = build_optimizer(cfg)\n",
    "loss = build_loss(cfg)"
   ]
  },
  {
   "cell_type": "markdown",
   "metadata": {},
   "source": [
    "## Compile model"
   ]
  },
  {
   "cell_type": "code",
   "execution_count": 12,
   "metadata": {},
   "outputs": [
    {
     "name": "stdout",
     "output_type": "stream",
     "text": [
      "Model: \"cnn_1\"\n",
      "_________________________________________________________________\n",
      "Layer (type)                 Output Shape              Param #   \n",
      "=================================================================\n",
      "images (InputLayer)          [(64, 55, 47, 3)]         0         \n",
      "_________________________________________________________________\n",
      "conv2d_10 (Conv2D)           multiple                  1792      \n",
      "_________________________________________________________________\n",
      "dropout_5 (Dropout)          multiple                  0         \n",
      "_________________________________________________________________\n",
      "conv_block_4 (ConvBlock)     multiple                  615680    \n",
      "_________________________________________________________________\n",
      "conv_block_5 (ConvBlock)     multiple                  887296    \n",
      "_________________________________________________________________\n",
      "conv_block_6 (ConvBlock)     multiple                  3544064   \n",
      "_________________________________________________________________\n",
      "conv_block_7 (ConvBlock)     multiple                  14166016  \n",
      "_________________________________________________________________\n",
      "conv2d_19 (Conv2D)           multiple                  524800    \n",
      "_________________________________________________________________\n",
      "dense_3 (Dense)              multiple                  393344    \n",
      "_________________________________________________________________\n",
      "batch_normalization_18 (Batc multiple                  512       \n",
      "_________________________________________________________________\n",
      "activation_18 (Activation)   multiple                  0         \n",
      "_________________________________________________________________\n",
      "dense_4 (Dense)              multiple                  8256      \n",
      "_________________________________________________________________\n",
      "batch_normalization_19 (Batc multiple                  256       \n",
      "_________________________________________________________________\n",
      "activation_19 (Activation)   multiple                  0         \n",
      "_________________________________________________________________\n",
      "dense_5 (Dense)              multiple                  130       \n",
      "=================================================================\n",
      "Total params: 20,142,146\n",
      "Trainable params: 20,134,082\n",
      "Non-trainable params: 8,064\n",
      "_________________________________________________________________\n"
     ]
    }
   ],
   "source": [
    "model = setup_model(\n",
    "    model, train_generator, optimizer, loss, metrics\n",
    ")"
   ]
  },
  {
   "cell_type": "code",
   "execution_count": null,
   "metadata": {},
   "outputs": [],
   "source": []
  },
  {
   "cell_type": "markdown",
   "metadata": {},
   "source": [
    "## Start training"
   ]
  },
  {
   "cell_type": "code",
   "execution_count": null,
   "metadata": {},
   "outputs": [],
   "source": [
    "train_generator.fit_mode()\n",
    "validation_generator.fit_mode()\n",
    "model.fit_mode()"
   ]
  },
  {
   "cell_type": "code",
   "execution_count": null,
   "metadata": {},
   "outputs": [],
   "source": [
    "start_time = time.time()\n",
    "history = model.fit(\n",
    "    train_generator,\n",
    "    epochs= cfg.SOLVER.EPOCHS,\n",
    "    verbose=2,\n",
    "    validation_data=validation_generator,\n",
    "    validation_steps=len(validation_generator),\n",
    "    callbacks=callbacks,\n",
    "    use_multiprocessing=False,\n",
    "    workers=1,\n",
    "    max_queue_size=20,\n",
    ")\n",
    "training_time = (time.time() - start_time)/60.0"
   ]
  },
  {
   "cell_type": "code",
   "execution_count": null,
   "metadata": {},
   "outputs": [],
   "source": [
    "logger.info(f\"Training time: {training_time:.3f} [min]\")"
   ]
  },
  {
   "cell_type": "code",
   "execution_count": null,
   "metadata": {},
   "outputs": [],
   "source": [
    "training_history(history, training_time, cfg.EXPERIMENT_NAME)"
   ]
  },
  {
   "cell_type": "code",
   "execution_count": null,
   "metadata": {},
   "outputs": [],
   "source": [
    "training_history(history, training_time, cfg.EXPERIMENT_NAME, ylog=True)"
   ]
  },
  {
   "cell_type": "code",
   "execution_count": null,
   "metadata": {},
   "outputs": [],
   "source": []
  }
 ],
 "metadata": {
  "interpreter": {
   "hash": "23622b7acbfecceb6c580e6612f57b6025739422d4e7cd9ec8a6770dedfbf18a"
  },
  "kernelspec": {
   "display_name": "Python 3 (ipykernel)",
   "language": "python",
   "name": "python3"
  },
  "language_info": {
   "codemirror_mode": {
    "name": "ipython",
    "version": 3
   },
   "file_extension": ".py",
   "mimetype": "text/x-python",
   "name": "python",
   "nbconvert_exporter": "python",
   "pygments_lexer": "ipython3",
   "version": "3.9.7"
  }
 },
 "nbformat": 4,
 "nbformat_minor": 2
}
