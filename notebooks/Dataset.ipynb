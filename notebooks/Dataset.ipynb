{
 "cells": [
  {
   "cell_type": "code",
   "execution_count": null,
   "id": "ff09bd5d-fec0-4c3d-95e3-c960ffcdc726",
   "metadata": {},
   "outputs": [],
   "source": [
    "import sys\n",
    "sys.path.append('..')"
   ]
  },
  {
   "cell_type": "code",
   "execution_count": null,
   "id": "d3f404e7-6c61-409d-bf24-5e6571905752",
   "metadata": {},
   "outputs": [],
   "source": [
    "import time\n",
    "\n",
    "import numpy as np\n",
    "import seaborn as sns; sns.set()\n",
    "\n",
    "from gerumo.data.dataset import describe_dataset, load_dataset\n",
    "from gerumo.data.generators import build_generator\n",
    "from gerumo.utils.engine import (\n",
    "    setup_cfg, setup_environment, setup_experiment, setup_model,\n",
    "    build_dataset, build_callbacks, build_metrics, build_optimizer, build_loss)\n",
    "\n",
    "from gerumo.data.constants import REGRESSION_TARGET_UNITS, REGRESSION_TARGETS\n",
    "\n",
    "class dotdict(dict):\n",
    "    \"\"\"dot.notation access to dictionary attributes\"\"\"\n",
    "    __getattr__ = dict.get\n",
    "    __setattr__ = dict.__setitem__\n",
    "    __delattr__ = dict.__delitem__\n",
    "args = dotdict()"
   ]
  },
  {
   "cell_type": "code",
   "execution_count": null,
   "id": "2efc6864-b68e-4228-a7d5-88057c8aec6f",
   "metadata": {},
   "outputs": [],
   "source": [
    "args['config_file'] = '/home/asuka/projects/gerumo2/config/feature_experiments/cnn_regression_cf.yml'\n",
    "args['opts'] = []"
   ]
  },
  {
   "cell_type": "code",
   "execution_count": null,
   "id": "7b3c2847-7035-42ca-a3a6-7f272f172f1a",
   "metadata": {},
   "outputs": [],
   "source": [
    "cfg = setup_cfg(args)\n",
    "logger = setup_environment(cfg)"
   ]
  },
  {
   "cell_type": "code",
   "execution_count": null,
   "id": "66fa86c0-ef3e-4e57-a8cf-ddb2c3406d02",
   "metadata": {},
   "outputs": [],
   "source": [
    "print(cfg.OUTPUT)"
   ]
  },
  {
   "cell_type": "code",
   "execution_count": null,
   "id": "42d3c411-353e-4a33-97c1-baf565862af1",
   "metadata": {},
   "outputs": [],
   "source": [
    "print(cfg.DATASETS)"
   ]
  },
  {
   "cell_type": "markdown",
   "id": "0557cdef-98a1-4687-8058-df809cbab19b",
   "metadata": {},
   "source": [
    "## Target units"
   ]
  },
  {
   "cell_type": "code",
   "execution_count": null,
   "id": "170de690-c6f8-4cba-a8d4-429a711c9d18",
   "metadata": {},
   "outputs": [],
   "source": [
    "for t, u in zip(REGRESSION_TARGETS[:3], REGRESSION_TARGET_UNITS):\n",
    "    print(f'{t} [{u}]')"
   ]
  },
  {
   "cell_type": "markdown",
   "id": "420d1025-2ff7-48cf-a0fe-e06fc16fb712",
   "metadata": {},
   "source": [
    "## Build dataset"
   ]
  },
  {
   "cell_type": "code",
   "execution_count": null,
   "id": "fb6cf438-c0f4-48a5-ad14-64c84c81d4d6",
   "metadata": {},
   "outputs": [],
   "source": [
    "subset = 'train'"
   ]
  },
  {
   "cell_type": "markdown",
   "id": "cdbdb6f9-ffe8-49f8-b3a8-4a6adc7afd4b",
   "metadata": {},
   "source": [
    "### Load dataset subset"
   ]
  },
  {
   "cell_type": "code",
   "execution_count": null,
   "id": "833ed634-016c-4f08-9e95-e4afe615db96",
   "metadata": {},
   "outputs": [],
   "source": [
    "if subset == 'train':\n",
    "    events_path = cfg.DATASETS.TRAIN.EVENTS\n",
    "    telescopes_path = cfg.DATASETS.TRAIN.TELESCOPES\n",
    "    replace_folder = cfg.DATASETS.TRAIN.FOLDER\n",
    "elif subset == 'validation':\n",
    "    events_path = cfg.DATASETS.VALIDATION.EVENTS\n",
    "    telescopes_path = cfg.DATASETS.VALIDATION.TELESCOPES\n",
    "    replace_folder = cfg.DATASETS.VALIDATION.FOLDER\n",
    "elif subset == 'test':\n",
    "    events_path = cfg.DATASETS.TEST.EVENTS\n",
    "    telescopes_path = cfg.DATASETS.TEST.TELESCOPES\n",
    "    replace_folder = cfg.DATASETS.TEST.FOLDER\n",
    "else:\n",
    "    raise ValueError('Invalid subset', subset)"
   ]
  },
  {
   "cell_type": "code",
   "execution_count": null,
   "id": "fd308476-8f73-468c-8127-e060db1eb348",
   "metadata": {},
   "outputs": [],
   "source": [
    "dataset = load_dataset(events_path, telescopes_path, replace_folder)\n",
    "dataset[['true_energy', 'true_az', 'true_alt']].describe()"
   ]
  },
  {
   "cell_type": "code",
   "execution_count": null,
   "id": "02b288ad-6c9c-4e45-a82a-92d491c72cb1",
   "metadata": {},
   "outputs": [],
   "source": [
    "dataset[['true_energy']].hist(log=True);"
   ]
  },
  {
   "cell_type": "code",
   "execution_count": null,
   "id": "a31bc03c-deed-412b-bd69-3566f6f4dfc2",
   "metadata": {},
   "outputs": [],
   "source": [
    "dataset[['true_az', 'true_alt']].hist(figsize=(12,6));"
   ]
  },
  {
   "cell_type": "markdown",
   "id": "18f3d563-8247-4532-9f08-8826810acac5",
   "metadata": {},
   "source": [
    "### Aggregate"
   ]
  },
  {
   "cell_type": "code",
   "execution_count": null,
   "id": "4bb1d202-e45a-4c52-bf28-d2dd55e8969f",
   "metadata": {},
   "outputs": [],
   "source": [
    "center_az = cfg.DATASETS.AGGREGATION.CENTER_AZ\n",
    "log10_mc_energy = cfg.DATASETS.AGGREGATION.LOG10_ENERGY\n",
    "hdf5_file = cfg.DATASETS.AGGREGATION.HDF5_FILEPATH\n",
    "remove_nan = cfg.DATASETS.AGGREGATION.REMOVE_NAN\n",
    "ignore_particle_types = cfg.DATASETS.AGGREGATION.IGNORE_PARTICLE_TYPES\n",
    "if cfg.DATASETS.AGGREGATION.IGNORE_BY_DOMAINS:\n",
    "    domains = {\n",
    "        k: v for (k, v) in zip(\n",
    "            cfg.OUTPUT.REGRESSION.TARGETS,\n",
    "            cfg.OUTPUT.REGRESSION.TARGETS_DOMAINS\n",
    "        )\n",
    "    }\n",
    "else:\n",
    "    domains = None"
   ]
  },
  {
   "cell_type": "markdown",
   "id": "c1bbcd92-40ff-4e94-8350-1a5a2c244064",
   "metadata": {},
   "source": [
    "#### Center Azimuth"
   ]
  },
  {
   "cell_type": "code",
   "execution_count": null,
   "id": "8abc6274-093e-4982-b2b0-d873b8b42255",
   "metadata": {},
   "outputs": [],
   "source": [
    "if center_az:\n",
    "    dataset['true_az'] = np.rad2deg(\n",
    "        np.deg2rad(dataset['true_az']).apply(\n",
    "            lambda rad: np.arctan2(np.sin(rad), np.cos(rad))\n",
    "        )\n",
    "    )\n",
    "    center_az = False\n",
    "dataset[['true_az']].hist();"
   ]
  },
  {
   "cell_type": "markdown",
   "id": "c5b475b9-8cca-43ee-aea3-248ccba37a09",
   "metadata": {},
   "source": [
    "#### Convert energy into log scale"
   ]
  },
  {
   "cell_type": "code",
   "execution_count": null,
   "id": "70abcd24",
   "metadata": {},
   "outputs": [],
   "source": [
    "if log10_mc_energy:\n",
    "    dataset['true_log10_energy'] = dataset['true_energy'].apply(\n",
    "        lambda energy: np.log10(energy)\n",
    "    )\n",
    "    log10_mc_energy = False\n",
    "dataset['true_log10_energy'].hist(log=False);"
   ]
  },
  {
   "cell_type": "code",
   "execution_count": null,
   "id": "25cf094c-a8d8-4058-863f-d71936eda606",
   "metadata": {},
   "outputs": [],
   "source": [
    "if remove_nan:\n",
    "    dataset.dropna(inplace=True)\n",
    "    remove_nan = False\n",
    "dataset[['true_energy', 'true_az', 'true_alt']].describe()"
   ]
  },
  {
   "cell_type": "code",
   "execution_count": null,
   "id": "5ca5cfbc-2ee2-4887-9c8b-8acc191a626e",
   "metadata": {},
   "outputs": [],
   "source": [
    "if domains is not None:\n",
    "    for target, domain in domains.items():\n",
    "        dataset = dataset[(dataset[target] >= domain[0]) & (dataset[target] <= domain[1])]\n",
    "dataset[['true_energy', 'true_az', 'true_alt']].describe()"
   ]
  },
  {
   "cell_type": "code",
   "execution_count": null,
   "id": "a1ad2fd7-8a04-4039-8416-51cfa1a426d0",
   "metadata": {},
   "outputs": [],
   "source": [
    "dataset[['true_az', 'true_alt']].hist(figsize=(12,6));"
   ]
  },
  {
   "cell_type": "code",
   "execution_count": null,
   "id": "927d52a2-356e-4f50-b07c-c12ffb739a3e",
   "metadata": {},
   "outputs": [],
   "source": []
  }
 ],
 "metadata": {
  "kernelspec": {
   "display_name": "Python 3 (ipykernel)",
   "language": "python",
   "name": "python3"
  },
  "language_info": {
   "codemirror_mode": {
    "name": "ipython",
    "version": 3
   },
   "file_extension": ".py",
   "mimetype": "text/x-python",
   "name": "python",
   "nbconvert_exporter": "python",
   "pygments_lexer": "ipython3",
   "version": "3.9.7"
  }
 },
 "nbformat": 4,
 "nbformat_minor": 5
}
