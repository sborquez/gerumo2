{
 "cells": [
  {
   "cell_type": "code",
   "execution_count": null,
   "id": "ff09bd5d-fec0-4c3d-95e3-c960ffcdc726",
   "metadata": {},
   "outputs": [],
   "source": [
    "cd .."
   ]
  },
  {
   "cell_type": "code",
   "execution_count": null,
   "id": "d3f404e7-6c61-409d-bf24-5e6571905752",
   "metadata": {},
   "outputs": [],
   "source": [
    "from gerumo.data.dataset import (\n",
    "    load_dataset, aggregate_dataset\n",
    ")\n",
    "import matplotlib.pyplot as plt\n",
    "%matplotlib inline"
   ]
  },
  {
   "cell_type": "code",
   "execution_count": null,
   "id": "7744f10c-a462-49b3-a4c2-3991cd5df90d",
   "metadata": {},
   "outputs": [],
   "source": [
    "dataset = load_dataset(\"/home/asuka/projects/gerumo2/tools/output/splits/train_events.parquet\", \"/home/asuka/projects/gerumo2/tools/output/splits/train_telescopes.parquet\")\n",
    "dataset = aggregate_dataset(dataset)"
   ]
  },
  {
   "cell_type": "code",
   "execution_count": null,
   "id": "eba0f480",
   "metadata": {},
   "outputs": [],
   "source": [
    "#dataset.iloc[:len(dataset)//2][\"particle_type\"] = \"proton\""
   ]
  },
  {
   "cell_type": "code",
   "execution_count": null,
   "id": "e8538d5c",
   "metadata": {},
   "outputs": [],
   "source": [
    "for col in filter(lambda c: c.startswith(\"true_\"), dataset.columns):\n",
    "    dataset.hist(column=col, grid=False, figsize=(12,6), bins=50,by=\"particle_type\")\n",
    "    plt.suptitle(col)\n",
    "    plt.show()"
   ]
  },
  {
   "cell_type": "code",
   "execution_count": null,
   "id": "70abcd24",
   "metadata": {},
   "outputs": [],
   "source": []
  }
 ],
 "metadata": {
  "kernelspec": {
   "display_name": "Python 3 (ipykernel)",
   "language": "python",
   "name": "python3"
  },
  "language_info": {
   "codemirror_mode": {
    "name": "ipython",
    "version": 3
   },
   "file_extension": ".py",
   "mimetype": "text/x-python",
   "name": "python",
   "nbconvert_exporter": "python",
   "pygments_lexer": "ipython3",
   "version": "3.9.7"
  }
 },
 "nbformat": 4,
 "nbformat_minor": 5
}
