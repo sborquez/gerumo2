{
 "cells": [
  {
   "cell_type": "code",
   "execution_count": 1,
   "id": "ff09bd5d-fec0-4c3d-95e3-c960ffcdc726",
   "metadata": {},
   "outputs": [],
   "source": [
    "import sys\n",
    "sys.path.append('..')"
   ]
  },
  {
   "cell_type": "code",
   "execution_count": 2,
   "id": "35ce9382",
   "metadata": {},
   "outputs": [],
   "source": [
    "import os\n",
    "os.environ['TF_FORCE_GPU_ALLOW_GROWTH'] = '1'\n",
    "os.environ['CUDA_VISIBLE_DEVICES'] = ''"
   ]
  },
  {
   "cell_type": "code",
   "execution_count": 3,
   "id": "d3f404e7-6c61-409d-bf24-5e6571905752",
   "metadata": {},
   "outputs": [],
   "source": [
    "from gerumo.data.generators import MonoGenerator\n",
    "from gerumo.data.dataset import (\n",
    "    load_dataset, aggregate_dataset\n",
    ")\n",
    "from gerumo.data.constants import (\n",
    "    TELESCOPES\n",
    ")\n",
    "from gerumo.utils.structures import (\n",
    "    Telescope, Event, Observations,\n",
    "    Task, ReconstructionMode\n",
    ")\n",
    "from gerumo.data.mappers import (\n",
    "    OnevsAllClassification,\n",
    "    SimpleCategorical, SimpleRegression, SimpleSquareImage\n",
    ")\n",
    "from gerumo.visualization.explore import plot_telescope_geometry\n",
    "%matplotlib inline"
   ]
  },
  {
   "cell_type": "code",
   "execution_count": 4,
   "id": "7fae253d",
   "metadata": {},
   "outputs": [],
   "source": [
    "events_filepath = \"/home/asuka/projects/gerumo2/tools/output/splits/train_events.parquet\"\n",
    "telescopes_filepath = \"/home/asuka/projects/gerumo2/tools/output/splits/train_telescopes.parquet\""
   ]
  },
  {
   "cell_type": "code",
   "execution_count": 5,
   "id": "7744f10c-a462-49b3-a4c2-3991cd5df90d",
   "metadata": {},
   "outputs": [],
   "source": [
    "dataset = load_dataset(events_filepath, telescopes_filepath)\n",
    "dataset = aggregate_dataset(dataset)"
   ]
  },
  {
   "cell_type": "markdown",
   "id": "a8ee6d34-a65b-4ed0-b4c8-faaf619f14e7",
   "metadata": {},
   "source": [
    "# Telescopes"
   ]
  },
  {
   "cell_type": "code",
   "execution_count": 6,
   "id": "be1febba-48c9-484f-8b31-9ccf7dff79bb",
   "metadata": {},
   "outputs": [],
   "source": [
    "lst = Telescope(\"LST\",\"LST\",\"LSTCam\")\n",
    "mst = Telescope(\"MST\",\"MST\",\"FlashCam\")\n",
    "sst = Telescope(\"ASTRI\",\"SST\",\"CHEC\")\n",
    "#TELESCOPES"
   ]
  },
  {
   "cell_type": "code",
   "execution_count": 7,
   "id": "e761be1a-bf2e-42ed-aa91-9135b944c75f",
   "metadata": {},
   "outputs": [],
   "source": [
    "load_from_cache = True"
   ]
  },
  {
   "cell_type": "code",
   "execution_count": null,
   "id": "5204880d-d1cc-496d-af8a-08bda57a4507",
   "metadata": {},
   "outputs": [],
   "source": [
    "for telescope in (lst, mst, sst):\n",
    "    if load_from_cache:\n",
    "        pispox = telescope.get_pixels_positions()\n",
    "    else:\n",
    "        pispox = telescope.get_pixels_positions(hdf5_filepath=dataset.loc[0, \"hdf5_filepath\"])\n",
    "    plot_telescope_geometry(telescope, pispox)"
   ]
  },
  {
   "cell_type": "code",
   "execution_count": null,
   "id": "5e6caf71-a9dd-4781-a97c-4185ce692c8f",
   "metadata": {},
   "outputs": [],
   "source": [
    "for telescope in (lst, mst, sst):\n",
    "    if load_from_cache:\n",
    "        pispox, _ = telescope.get_aligned_pixels_positions()\n",
    "    else:\n",
    "        pispox, _ = telescope.get_aligned_pixels_positions(hdf5_filepath=dataset.loc[0, \"hdf5_filepath\"])\n",
    "    plot_telescope_geometry(telescope, pispox, is_aligned=False)\n"
   ]
  },
  {
   "cell_type": "code",
   "execution_count": null,
   "id": "36970118-2a38-42fe-a899-675bbca9408b",
   "metadata": {},
   "outputs": [],
   "source": [
    "for telescope in (lst, mst, sst):\n",
    "    telescope.save_geometry_to_cache()"
   ]
  },
  {
   "cell_type": "markdown",
   "id": "2b81ef05-3be3-4514-8701-c9946cf9678a",
   "metadata": {},
   "source": [
    "# Image mappers\n"
   ]
  },
  {
   "cell_type": "code",
   "execution_count": 7,
   "id": "e878c16b-5ad4-45f6-96c5-d1691bb30428",
   "metadata": {},
   "outputs": [],
   "source": [
    "import numpy as np\n",
    "import matplotlib.pyplot as plt\n",
    "IMAGES_SIZE = {\n",
    "    \"lst\" : (55, 47, 1),\n",
    "    \"mst\": (84, 29, 1),\n",
    "    \"sst\": (72, 25, 1)\n",
    "}"
   ]
  },
  {
   "cell_type": "code",
   "execution_count": 8,
   "id": "2f5a523b-7e85-41f9-a3d0-95e94df83f76",
   "metadata": {},
   "outputs": [],
   "source": [
    "telescope = mst\n",
    "\n",
    "i = 1\n",
    "x, y = telescope.get_aligned_pixels_positions()[i] \n",
    "w,h = telescope.get_aligned_pixels_positions()[i].max(axis=1) + 1\n",
    "c = 1"
   ]
  },
  {
   "cell_type": "code",
   "execution_count": null,
   "id": "245799b9-9e50-4064-96dd-23761ff09d87",
   "metadata": {},
   "outputs": [],
   "source": [
    "image_size = (h,w,c)\n",
    "canvas = np.zeros(image_size, dtype=\"float32\")\n",
    "canvas[y, x, 0] = 1\n",
    "\n",
    "plt.imshow(canvas)"
   ]
  },
  {
   "cell_type": "markdown",
   "id": "8dea376f-62f6-479a-b115-e1fc136d61ee",
   "metadata": {},
   "source": [
    "# Generators"
   ]
  },
  {
   "cell_type": "markdown",
   "id": "248c45ee-153a-4e4b-8da7-e80b2050b3d7",
   "metadata": {},
   "source": [
    "## Regression"
   ]
  },
  {
   "cell_type": "code",
   "execution_count": 21,
   "id": "70d4c8c6-f00a-45e3-a532-7cbb9612c64b",
   "metadata": {},
   "outputs": [],
   "source": [
    "generator = MonoGenerator(\n",
    "    dataset, sst, 4,\n",
    "    SimpleSquareImage(image_channels=[\"image\", \"peak_time\", \"image_mask\"], telescope_features=[], mode=ReconstructionMode.SINGLE),\n",
    "    SimpleRegression(targets=[\"true_az\", \"true_alt\"], domains=[(-2,2),(-2,2)]))"
   ]
  },
  {
   "cell_type": "code",
   "execution_count": 22,
   "id": "072494e3",
   "metadata": {},
   "outputs": [],
   "source": [
    "generator[0][0]"
   ]
  },
  {
   "cell_type": "code",
   "execution_count": null,
   "id": "f13cdce2",
   "metadata": {},
   "outputs": [],
   "source": [
    "generator[0][1]"
   ]
  },
  {
   "cell_type": "markdown",
   "id": "3806ba16-604c-4740-b6fb-5ed4789d0951",
   "metadata": {},
   "source": [
    "## Catagorical"
   ]
  },
  {
   "cell_type": "code",
   "execution_count": null,
   "id": "278a0987-9ea8-4a78-b066-684aa91ec31d",
   "metadata": {},
   "outputs": [],
   "source": [
    "generator = MonoGenerator(\n",
    "    dataset, Telescope(\"MST\",\"MST\",\"FlashCam\"), 4,\n",
    "    SimpleSquareImage(image_channels=[\"image\", \"image_mask\"], telescope_features=[], mode=ReconstructionMode.SINGLE),\n",
    "    SimpleCategorical(target=\"particle_type\", num_classes=2, classes=[\"proton\", \"gamma\"])\n",
    ")"
   ]
  },
  {
   "cell_type": "code",
   "execution_count": null,
   "id": "e4904d5c-b7c2-4427-a302-501231abcdbb",
   "metadata": {},
   "outputs": [],
   "source": [
    "generator[0][0]"
   ]
  },
  {
   "cell_type": "code",
   "execution_count": null,
   "id": "c931a888-4536-40dd-86cc-1fc8376c7039",
   "metadata": {},
   "outputs": [],
   "source": [
    "generator[0][1]"
   ]
  },
  {
   "cell_type": "markdown",
   "id": "67ee5b0c-baf4-4be9-b0a7-809b15ce2a9d",
   "metadata": {},
   "source": [
    "## One vs all"
   ]
  },
  {
   "cell_type": "code",
   "execution_count": null,
   "id": "79551ffe-e020-46c1-bece-1c332d392c72",
   "metadata": {},
   "outputs": [],
   "source": [
    "generator = MonoGenerator(\n",
    "    dataset, Telescope(\"MST\",\"MST\",\"FlashCam\"), 4,\n",
    "    SimpleSquareImage(image_channels=[\"image\", \"image_mask\"], telescope_features=[], mode=ReconstructionMode.SINGLE),\n",
    "    OnevsAllClassification(target=\"particle_type\", num_classes=2, classes=[\"gamma\"])\n",
    ")"
   ]
  },
  {
   "cell_type": "code",
   "execution_count": null,
   "id": "a24e2150-5e3f-4aba-b7a2-d4586a20d4e1",
   "metadata": {},
   "outputs": [],
   "source": [
    "generator[0][0]"
   ]
  },
  {
   "cell_type": "code",
   "execution_count": null,
   "id": "4e63c622-88d4-43f3-9468-2095e4d92c19",
   "metadata": {},
   "outputs": [],
   "source": [
    "generator[0][1]"
   ]
  },
  {
   "cell_type": "code",
   "execution_count": null,
   "id": "75fc4312",
   "metadata": {},
   "outputs": [],
   "source": []
  }
 ],
 "metadata": {
  "kernelspec": {
   "display_name": "Python 3 (ipykernel)",
   "language": "python",
   "name": "python3"
  },
  "language_info": {
   "codemirror_mode": {
    "name": "ipython",
    "version": 3
   },
   "file_extension": ".py",
   "mimetype": "text/x-python",
   "name": "python",
   "nbconvert_exporter": "python",
   "pygments_lexer": "ipython3",
   "version": "3.9.9"
  }
 },
 "nbformat": 4,
 "nbformat_minor": 5
}
