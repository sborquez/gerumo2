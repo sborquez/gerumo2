{
 "cells": [
  {
   "cell_type": "code",
   "execution_count": null,
   "id": "a16116bb",
   "metadata": {},
   "outputs": [],
   "source": [
    "import sys\n",
    "sys.path.append('..')"
   ]
  },
  {
   "cell_type": "code",
   "execution_count": null,
   "id": "98d14786",
   "metadata": {},
   "outputs": [],
   "source": [
    "import time\n",
    "\n",
    "import numpy as np\n",
    "import seaborn as sns; sns.set()\n",
    "\n",
    "from gerumo.data.dataset import describe_dataset, load_dataset\n",
    "from gerumo.data.generators import build_generator\n",
    "from gerumo.utils.engine import (\n",
    "    setup_cfg, setup_environment, setup_experiment, setup_model,\n",
    "    build_dataset, build_callbacks, build_metrics, build_optimizer, build_loss)\n",
    "\n",
    "from gerumo.data.constants import REGRESSION_TARGET_UNITS, REGRESSION_TARGETS\n",
    "\n",
    "class dotdict(dict):\n",
    "    \"\"\"dot.notation access to dictionary attributes\"\"\"\n",
    "    __getattr__ = dict.get\n",
    "    __setattr__ = dict.__setitem__\n",
    "    __delattr__ = dict.__delitem__\n",
    "args = dotdict()"
   ]
  },
  {
   "cell_type": "code",
   "execution_count": null,
   "id": "b1fbe332",
   "metadata": {},
   "outputs": [],
   "source": [
    "args['config_file'] = '/home/ir-riqu1/gerumo2/config/cnn_classification.yml'\n",
    "args['opts'] = [\n",
    "    'DATASETS.TRAIN.EVENTS','/home/ir-riqu1/rds/rds-iris-ip007/ir-riqu1/Prod5-parquets/output_ALL_cut1000_splitted/train_events.parquet',\n",
    "    'DATASETS.TRAIN.TELESCOPES','/home/ir-riqu1/rds/rds-iris-ip007/ir-riqu1/Prod5-parquets/output_ALL_cut1000_splitted/train_telescopes.parquet',\n",
    "    'DATASETS.VALIDATION.EVENTS','/home/ir-riqu1/rds/rds-iris-ip007/ir-riqu1/Prod5-parquets/output_ALL_cut1000_splitted/validation_events.parquet',\n",
    "    'DATASETS.VALIDATION.TELESCOPES','/home/ir-riqu1/rds/rds-iris-ip007/ir-riqu1/Prod5-parquets/output_ALL_cut1000_splitted/validation_telescopes.parquet',\n",
    "]"
   ]
  },
  {
   "cell_type": "code",
   "execution_count": null,
   "id": "efa8da90",
   "metadata": {},
   "outputs": [],
   "source": [
    "cfg = setup_cfg(args)\n",
    "logger = setup_environment(cfg)"
   ]
  },
  {
   "cell_type": "code",
   "execution_count": null,
   "id": "6fc66aea",
   "metadata": {},
   "outputs": [],
   "source": [
    "subset='train'"
   ]
  },
  {
   "cell_type": "code",
   "execution_count": null,
   "id": "ca61c5f0",
   "metadata": {},
   "outputs": [],
   "source": [
    "if subset == 'train':\n",
    "    events_path = cfg.DATASETS.TRAIN.EVENTS\n",
    "    telescopes_path = cfg.DATASETS.TRAIN.TELESCOPES\n",
    "    replace_folder = cfg.DATASETS.TRAIN.FOLDER\n",
    "elif subset == 'validation':\n",
    "    events_path = cfg.DATASETS.VALIDATION.EVENTS\n",
    "    telescopes_path = cfg.DATASETS.VALIDATION.TELESCOPES\n",
    "    replace_folder = cfg.DATASETS.VALIDATION.FOLDER\n",
    "elif subset == 'test':\n",
    "    events_path = cfg.DATASETS.TEST.EVENTS\n",
    "    telescopes_path = cfg.DATASETS.TEST.TELESCOPES\n",
    "    replace_folder = cfg.DATASETS.TEST.FOLDER\n",
    "else:\n",
    "    raise ValueError('Invalid subset', subset)"
   ]
  },
  {
   "cell_type": "code",
   "execution_count": null,
   "id": "da8288ef",
   "metadata": {},
   "outputs": [],
   "source": [
    "dataset = load_dataset(events_path, telescopes_path, replace_folder)\n"
   ]
  },
  {
   "cell_type": "code",
   "execution_count": null,
   "id": "a38ed713",
   "metadata": {},
   "outputs": [],
   "source": [
    "LST_mask=(dataset['type']=='LST')\n",
    "LST_dataset=dataset[LST_mask]"
   ]
  },
  {
   "cell_type": "code",
   "execution_count": null,
   "id": "5ed63a22",
   "metadata": {},
   "outputs": [],
   "source": [
    "LST_dataset[['true_energy','hillas_intensity']].describe().apply(lambda s: s.apply('{0:.5f}'.format))"
   ]
  },
  {
   "cell_type": "code",
   "execution_count": null,
   "id": "62834fa7",
   "metadata": {},
   "outputs": [],
   "source": [
    "LST_dataset.groupby('particle_type')['event_unique_id'].count()"
   ]
  },
  {
   "cell_type": "code",
   "execution_count": null,
   "id": "0c093754",
   "metadata": {},
   "outputs": [],
   "source": [
    "LST_dataset.particle_type.value_counts(normalize=True)"
   ]
  },
  {
   "cell_type": "code",
   "execution_count": null,
   "id": "478a619c",
   "metadata": {},
   "outputs": [],
   "source": [
    "LST_dataset['true_energy'].hist(log=True,by=LST_dataset.particle_type,grid=True)\n",
    "import matplotlib.pyplot as plt\n",
    "plt.suptitle('True Energy distribution (high cut) GeV',y = -0.1)"
   ]
  },
  {
   "cell_type": "code",
   "execution_count": null,
   "id": "1c7463d2",
   "metadata": {},
   "outputs": [],
   "source": [
    "LST_dataset['hillas_intensity'].hist(log=True,by=LST_dataset.particle_type,grid=True)\n",
    "import matplotlib.pyplot as plt\n",
    "plt.suptitle('Hillas intensity distribution (high cut) phe',y = -0.1)"
   ]
  },
  {
   "cell_type": "code",
   "execution_count": null,
   "id": "32dc9cb9",
   "metadata": {},
   "outputs": [],
   "source": []
  }
 ],
 "metadata": {
  "kernelspec": {
   "display_name": "Python 3 (ipykernel)",
   "language": "python",
   "name": "python3"
  },
  "language_info": {
   "codemirror_mode": {
    "name": "ipython",
    "version": 3
   },
   "file_extension": ".py",
   "mimetype": "text/x-python",
   "name": "python",
   "nbconvert_exporter": "python",
   "pygments_lexer": "ipython3",
   "version": "3.9.10"
  }
 },
 "nbformat": 4,
 "nbformat_minor": 5
}
